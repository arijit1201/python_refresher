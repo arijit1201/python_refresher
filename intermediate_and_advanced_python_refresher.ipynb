{
  "nbformat": 4,
  "nbformat_minor": 0,
  "metadata": {
    "colab": {
      "name": "intermediate_and_advanced_python_refresher.ipynb",
      "provenance": [],
      "collapsed_sections": [],
      "authorship_tag": "ABX9TyPXSFvNk9UpsJwcU166Z0pb",
      "include_colab_link": true
    },
    "kernelspec": {
      "name": "python3",
      "display_name": "Python 3"
    },
    "language_info": {
      "name": "python"
    }
  },
  "cells": [
    {
      "cell_type": "markdown",
      "metadata": {
        "id": "view-in-github",
        "colab_type": "text"
      },
      "source": [
        "<a href=\"https://colab.research.google.com/github/arijit1201/python_refresher/blob/main/intermediate_and_advanced_python_refresher.ipynb\" target=\"_parent\"><img src=\"https://colab.research.google.com/assets/colab-badge.svg\" alt=\"Open In Colab\"/></a>"
      ]
    },
    {
      "cell_type": "markdown",
      "source": [
        "# LISTS"
      ],
      "metadata": {
        "id": "Hqf9OUWHwb08"
      }
    },
    {
      "cell_type": "markdown",
      "source": [
        "**Intermediate and advanced python**"
      ],
      "metadata": {
        "id": "gtAkFd58vn-N"
      }
    },
    {
      "cell_type": "markdown",
      "source": [
        "## Creating a list"
      ],
      "metadata": {
        "id": "r_YpzyaCxi1u"
      }
    },
    {
      "cell_type": "code",
      "execution_count": 1,
      "metadata": {
        "colab": {
          "base_uri": "https://localhost:8080/"
        },
        "id": "JczIaNG0vj7c",
        "outputId": "a2ea3d8d-b761-496e-a032-187f963eebd5"
      },
      "outputs": [
        {
          "output_type": "stream",
          "name": "stdout",
          "text": [
            "['banana', 'cherry', 'apple']\n",
            "[]\n",
            "[5, True, 'apple']\n",
            "[0, 0, 1, 1]\n"
          ]
        }
      ],
      "source": [
        "list_1 = [\"banana\", \"cherry\", \"apple\"]\n",
        "print(list_1)\n",
        "\n",
        "# Or create an empty list with the list function\n",
        "list_2 = list()\n",
        "print(list_2)\n",
        "\n",
        "# Lists allow different data types\n",
        "list_3 = [5, True, \"apple\"]\n",
        "print(list_3)\n",
        "\n",
        "# Lists allow duplicates\n",
        "list_4 = [0, 0, 1, 1]\n",
        "print(list_4)"
      ]
    },
    {
      "cell_type": "code",
      "source": [
        "#to check whether a particular element is in a list\n",
        "print( \"goku\" in [\"deku\", \"saitama\"])\n",
        "print( \"deku\" in [\"deku\", \"saitama\"])"
      ],
      "metadata": {
        "colab": {
          "base_uri": "https://localhost:8080/"
        },
        "id": "6UiPblh7yIn9",
        "outputId": "4d57931e-e0c0-4a04-e25f-4f7c631b4f62"
      },
      "execution_count": 2,
      "outputs": [
        {
          "output_type": "stream",
          "name": "stdout",
          "text": [
            "False\n",
            "True\n"
          ]
        }
      ]
    },
    {
      "cell_type": "markdown",
      "source": [
        "## Access elements\n"
      ],
      "metadata": {
        "id": "tWC1D5Bvx4RS"
      }
    },
    {
      "cell_type": "code",
      "source": [
        "item = list_1[0]\n",
        "print(item)\n",
        "\n",
        "# You can also use negative indexing, e.g -1 refers to the last item,\n",
        "# -2 to the second last item, and so on\n",
        "item = list_1[-1]\n",
        "print(item)"
      ],
      "metadata": {
        "colab": {
          "base_uri": "https://localhost:8080/"
        },
        "id": "nWcw2Yfixl20",
        "outputId": "7f5287cf-5d54-45da-9de4-a500617a888a"
      },
      "execution_count": 3,
      "outputs": [
        {
          "output_type": "stream",
          "name": "stdout",
          "text": [
            "banana\n",
            "apple\n"
          ]
        }
      ]
    },
    {
      "cell_type": "markdown",
      "source": [
        "## Change items"
      ],
      "metadata": {
        "id": "SVtsZ2Six_FS"
      }
    },
    {
      "cell_type": "code",
      "source": [
        "# Lists can be altered after their creation\n",
        "list_1[2] = \"lemon\"\n",
        "print(list_1)"
      ],
      "metadata": {
        "colab": {
          "base_uri": "https://localhost:8080/"
        },
        "id": "4Yuq7pQDx7QJ",
        "outputId": "16661e8c-f88d-4008-ec5f-db53efbf7327"
      },
      "execution_count": 4,
      "outputs": [
        {
          "output_type": "stream",
          "name": "stdout",
          "text": [
            "['banana', 'cherry', 'lemon']\n"
          ]
        }
      ]
    },
    {
      "cell_type": "markdown",
      "source": [
        "## Useful Methods\n",
        "\n",
        "---\n",
        "\n",
        "⚡"
      ],
      "metadata": {
        "id": "Karw3clVyhGA"
      }
    },
    {
      "cell_type": "code",
      "source": [
        "my_list = [\"banana\", \"cherry\", \"apple\"]\n",
        "# len() : get the number of elements in a list\n",
        "print(\"length : \", len(my_list))"
      ],
      "metadata": {
        "colab": {
          "base_uri": "https://localhost:8080/"
        },
        "id": "xBSr7wKXyfxf",
        "outputId": "cb879f3f-0015-4c52-c27f-e2e543800c06"
      },
      "execution_count": 5,
      "outputs": [
        {
          "output_type": "stream",
          "name": "stdout",
          "text": [
            "length :  3\n"
          ]
        }
      ]
    },
    {
      "cell_type": "code",
      "source": [
        "# append() : adds an element to the end of the list\n",
        "my_list.append(\"orange\")\n",
        "print(my_list)"
      ],
      "metadata": {
        "colab": {
          "base_uri": "https://localhost:8080/"
        },
        "id": "ikJDJAjZyk3F",
        "outputId": "ac2559f8-e2ea-4bf5-ab02-2b4567a52822"
      },
      "execution_count": 6,
      "outputs": [
        {
          "output_type": "stream",
          "name": "stdout",
          "text": [
            "['banana', 'cherry', 'apple', 'orange']\n"
          ]
        }
      ]
    },
    {
      "cell_type": "code",
      "source": [
        "# insert() : adds an element at the specified position\n",
        "my_list.insert(1, \"raspberry\")\n",
        "print(my_list)"
      ],
      "metadata": {
        "colab": {
          "base_uri": "https://localhost:8080/"
        },
        "id": "U22MrYa_yy0q",
        "outputId": "326adf2d-61f3-4763-b499-7f42c2831756"
      },
      "execution_count": 7,
      "outputs": [
        {
          "output_type": "stream",
          "name": "stdout",
          "text": [
            "['banana', 'raspberry', 'cherry', 'apple', 'orange']\n"
          ]
        }
      ]
    },
    {
      "cell_type": "code",
      "source": [
        "# pop() : removes and returns the item at the given position, default is the last item\n",
        "print(\"Popped item : \",my_list.pop())\n",
        "print(\"Popped item : \",my_list.pop(1))"
      ],
      "metadata": {
        "colab": {
          "base_uri": "https://localhost:8080/"
        },
        "id": "Wv-0GBrLy6Zh",
        "outputId": "410701ae-eee3-4e41-e023-80b6ba8ae2b5"
      },
      "execution_count": 8,
      "outputs": [
        {
          "output_type": "stream",
          "name": "stdout",
          "text": [
            "Popped item :  orange\n",
            "Popped item :  raspberry\n"
          ]
        }
      ]
    },
    {
      "cell_type": "code",
      "source": [
        "# remove() : removes an item from the list\n",
        "my_list.remove(\"cherry\") # Value error if not in the list"
      ],
      "metadata": {
        "id": "mUm3eA83zD8T"
      },
      "execution_count": 9,
      "outputs": []
    },
    {
      "cell_type": "code",
      "source": [
        "# clear() : removes all items from the list\n",
        "my_list.clear()\n",
        "print(my_list)"
      ],
      "metadata": {
        "colab": {
          "base_uri": "https://localhost:8080/"
        },
        "id": "GRdMRUCozUm2",
        "outputId": "8832e672-62c9-428d-cf63-0e3141fcbb0e"
      },
      "execution_count": 10,
      "outputs": [
        {
          "output_type": "stream",
          "name": "stdout",
          "text": [
            "[]\n"
          ]
        }
      ]
    },
    {
      "cell_type": "code",
      "source": [
        "# reverse() : reverse the items\n",
        "my_list = [\"banana\", \"cherry\", \"apple\"]\n",
        "my_list.reverse()\n",
        "print('Reversed: ', my_list)"
      ],
      "metadata": {
        "colab": {
          "base_uri": "https://localhost:8080/"
        },
        "id": "jTswpKGozY69",
        "outputId": "64d7a33b-5015-484c-fcc8-591f08d6d36d"
      },
      "execution_count": 11,
      "outputs": [
        {
          "output_type": "stream",
          "name": "stdout",
          "text": [
            "Reversed:  ['apple', 'cherry', 'banana']\n"
          ]
        }
      ]
    },
    {
      "cell_type": "code",
      "source": [
        "# sort() : sort items in ascending order\n",
        "my_list.sort()\n",
        "print('Sorted: ', my_list)"
      ],
      "metadata": {
        "colab": {
          "base_uri": "https://localhost:8080/"
        },
        "id": "jI4zIkZjzcZ1",
        "outputId": "23ca06b3-5208-4b60-9fc0-ace69bc8b502"
      },
      "execution_count": 12,
      "outputs": [
        {
          "output_type": "stream",
          "name": "stdout",
          "text": [
            "Sorted:  ['apple', 'banana', 'cherry']\n"
          ]
        }
      ]
    },
    {
      "cell_type": "code",
      "source": [
        "# use sorted() to get a new list, and leave the original unaffected.\n",
        "# sorted() works on any iterable type, not just lists\n",
        "my_list = [\"banana\", \"cherry\", \"apple\"]\n",
        "new_list = sorted(my_list)"
      ],
      "metadata": {
        "id": "_hTIShMTzfd3"
      },
      "execution_count": 13,
      "outputs": []
    },
    {
      "cell_type": "code",
      "source": [
        "# create list with repeated elements\n",
        "list_with_zeros = [0] * 5\n",
        "print(list_with_zeros)"
      ],
      "metadata": {
        "colab": {
          "base_uri": "https://localhost:8080/"
        },
        "id": "Pppx6I70zjzn",
        "outputId": "2dd9b5a8-8d83-4d96-f0c2-f7c8645fbc73"
      },
      "execution_count": 14,
      "outputs": [
        {
          "output_type": "stream",
          "name": "stdout",
          "text": [
            "[0, 0, 0, 0, 0]\n"
          ]
        }
      ]
    },
    {
      "cell_type": "code",
      "source": [
        "# concatenation\n",
        "list_concat = list_with_zeros + my_list\n",
        "print(list_concat)"
      ],
      "metadata": {
        "colab": {
          "base_uri": "https://localhost:8080/"
        },
        "id": "MZmjVUMGzmq4",
        "outputId": "c1aba606-eafc-42e8-a19e-bfc33cdbe78f"
      },
      "execution_count": 15,
      "outputs": [
        {
          "output_type": "stream",
          "name": "stdout",
          "text": [
            "[0, 0, 0, 0, 0, 'banana', 'cherry', 'apple']\n"
          ]
        }
      ]
    },
    {
      "cell_type": "code",
      "source": [
        "# convert string to list\n",
        "string_to_list = list(\"Hello world\")\n",
        "print(string_to_list)"
      ],
      "metadata": {
        "colab": {
          "base_uri": "https://localhost:8080/"
        },
        "id": "sjw85limzpfJ",
        "outputId": "2ceb1be0-8f1e-4533-bcbc-de25b0bdd697"
      },
      "execution_count": 16,
      "outputs": [
        {
          "output_type": "stream",
          "name": "stdout",
          "text": [
            "['H', 'e', 'l', 'l', 'o', ' ', 'w', 'o', 'r', 'l', 'd']\n"
          ]
        }
      ]
    },
    {
      "cell_type": "markdown",
      "source": [
        "## copy a list"
      ],
      "metadata": {
        "id": "oF1OMIdErnzs"
      }
    },
    {
      "cell_type": "code",
      "source": [
        " list_org = [\"banana\", \"cherry\", \"apple\"]\n",
        "\n",
        "# this just copies the reference to the list, so be careful\n",
        "list_copy = list_org\n",
        "\n",
        "# now modifying the copy also affects the original\n",
        "list_copy.append(True)\n",
        "print(list_copy)\n",
        "print(list_org)"
      ],
      "metadata": {
        "id": "HbZSuo9JzuGr",
        "colab": {
          "base_uri": "https://localhost:8080/"
        },
        "outputId": "9bf58da3-81f3-4599-e155-e48ad026bea6"
      },
      "execution_count": 17,
      "outputs": [
        {
          "output_type": "stream",
          "name": "stdout",
          "text": [
            "['banana', 'cherry', 'apple', True]\n",
            "['banana', 'cherry', 'apple', True]\n"
          ]
        }
      ]
    },
    {
      "cell_type": "code",
      "source": [
        "# use copy(), or list(x) to actually copy the list\n",
        "# slicing also works: list_copy = list_org[:]\n",
        "list_org = [\"banana\", \"cherry\", \"apple\"]\n",
        "\n",
        "list_copy = list_org.copy()\n",
        "list_copy2 = list(list_org)\n",
        "list_copy3 = list_org[:]\n",
        "\n",
        "# now modifying the copy does not affect the original\n",
        "list_copy.append(True)\n",
        "print(list_copy, list_copy2, list_copy3)\n",
        "print(list_org)"
      ],
      "metadata": {
        "colab": {
          "base_uri": "https://localhost:8080/"
        },
        "id": "1UEs9VO9rvxM",
        "outputId": "1e69893b-339c-4784-e684-b4467ad8e33c"
      },
      "execution_count": 18,
      "outputs": [
        {
          "output_type": "stream",
          "name": "stdout",
          "text": [
            "['banana', 'cherry', 'apple', True] ['banana', 'cherry', 'apple'] ['banana', 'cherry', 'apple']\n",
            "['banana', 'cherry', 'apple']\n"
          ]
        }
      ]
    },
    {
      "cell_type": "markdown",
      "source": [
        "## iterating in a list"
      ],
      "metadata": {
        "id": "cp_5MD9psasG"
      }
    },
    {
      "cell_type": "code",
      "source": [
        "# Iterating over a list by using a for in loop\n",
        "for i in list_1:\n",
        "    print(i)"
      ],
      "metadata": {
        "colab": {
          "base_uri": "https://localhost:8080/"
        },
        "id": "1y6UnLelsHop",
        "outputId": "abf62d95-9942-4117-b6ef-607c2f05d856"
      },
      "execution_count": 19,
      "outputs": [
        {
          "output_type": "stream",
          "name": "stdout",
          "text": [
            "banana\n",
            "cherry\n",
            "lemon\n"
          ]
        }
      ]
    },
    {
      "cell_type": "markdown",
      "source": [
        "## check if an item exists"
      ],
      "metadata": {
        "id": "EpF2-aUFsuXF"
      }
    },
    {
      "cell_type": "code",
      "source": [
        "if \"banana\" in list_1:\n",
        "  print(\"yes\")\n",
        "else:\n",
        "  print(\"no\")"
      ],
      "metadata": {
        "colab": {
          "base_uri": "https://localhost:8080/"
        },
        "id": "bEvgEi9SsuEW",
        "outputId": "51e112f9-9798-45fa-92b9-4e7093343d1e"
      },
      "execution_count": 20,
      "outputs": [
        {
          "output_type": "stream",
          "name": "stdout",
          "text": [
            "yes\n"
          ]
        }
      ]
    },
    {
      "cell_type": "markdown",
      "source": [
        "## SLICING"
      ],
      "metadata": {
        "id": "sKkG_NPns4Eo"
      }
    },
    {
      "cell_type": "code",
      "source": [
        "# a[start:stop:step], default step is 1\n",
        "a = [1, 2, 3, 4, 5, 6, 7, 8, 9, 10]\n",
        "b = a[1:3] # Note that the last index is not included\n",
        "print(b)"
      ],
      "metadata": {
        "colab": {
          "base_uri": "https://localhost:8080/"
        },
        "id": "NfERW6ncsdEA",
        "outputId": "cbb4f696-0858-4b12-e89d-81440a0a6920"
      },
      "execution_count": 21,
      "outputs": [
        {
          "output_type": "stream",
          "name": "stdout",
          "text": [
            "[2, 3]\n"
          ]
        }
      ]
    },
    {
      "cell_type": "code",
      "source": [
        "b = a[2:] # until the end\n",
        "print(b)\n",
        "b = a[:3] # from beginning\n",
        "print(b)"
      ],
      "metadata": {
        "colab": {
          "base_uri": "https://localhost:8080/"
        },
        "id": "EsiYw1RLtCRo",
        "outputId": "4dd31b28-f9fa-4f15-d9bf-899968c24dd8"
      },
      "execution_count": 22,
      "outputs": [
        {
          "output_type": "stream",
          "name": "stdout",
          "text": [
            "[3, 4, 5, 6, 7, 8, 9, 10]\n",
            "[1, 2, 3]\n"
          ]
        }
      ]
    },
    {
      "cell_type": "code",
      "source": [
        "a[0:3] = [0] # replace sub-parts, you need an iterable here\n",
        "print(a)"
      ],
      "metadata": {
        "colab": {
          "base_uri": "https://localhost:8080/"
        },
        "id": "0MfGZibFtE13",
        "outputId": "7ffadbaa-6bd4-4e12-a74d-940a41c77488"
      },
      "execution_count": 23,
      "outputs": [
        {
          "output_type": "stream",
          "name": "stdout",
          "text": [
            "[0, 4, 5, 6, 7, 8, 9, 10]\n"
          ]
        }
      ]
    },
    {
      "cell_type": "code",
      "source": [
        "b = a[::2] # start to end with every second item\n",
        "print(b)"
      ],
      "metadata": {
        "colab": {
          "base_uri": "https://localhost:8080/"
        },
        "id": "7Hk1jqPmtJ6H",
        "outputId": "a0a2bcc2-25c7-4452-e4bc-c80c475c9fd4"
      },
      "execution_count": 24,
      "outputs": [
        {
          "output_type": "stream",
          "name": "stdout",
          "text": [
            "[0, 5, 7, 9]\n"
          ]
        }
      ]
    },
    {
      "cell_type": "code",
      "source": [
        "a = a[::-1] # reverse the list with a negative step:\n",
        "print(a)"
      ],
      "metadata": {
        "colab": {
          "base_uri": "https://localhost:8080/"
        },
        "id": "uUhLVds8tRLT",
        "outputId": "a9e08b0f-9ca3-4e8d-dfa6-dec7d17f22d7"
      },
      "execution_count": 25,
      "outputs": [
        {
          "output_type": "stream",
          "name": "stdout",
          "text": [
            "[10, 9, 8, 7, 6, 5, 4, 0]\n"
          ]
        }
      ]
    },
    {
      "cell_type": "code",
      "source": [
        "b = a[:] # copy a list with slicing\n",
        "print(b)"
      ],
      "metadata": {
        "colab": {
          "base_uri": "https://localhost:8080/"
        },
        "id": "r-Pt1SCEtZ6C",
        "outputId": "2f5a490a-ff0b-4405-fcc5-ef1748c23aab"
      },
      "execution_count": 26,
      "outputs": [
        {
          "output_type": "stream",
          "name": "stdout",
          "text": [
            "[10, 9, 8, 7, 6, 5, 4, 0]\n"
          ]
        }
      ]
    },
    {
      "cell_type": "code",
      "source": [
        "#NEGATIVE VALUE FOR START OR STOP REFERS TO END OF THE LIST\n",
        "a = [1,2,3,4,5,6,7,8,9,10]\n",
        "print(a[-1])\n",
        "print(a[-4:-1])"
      ],
      "metadata": {
        "colab": {
          "base_uri": "https://localhost:8080/"
        },
        "id": "TNrzAoPRtboy",
        "outputId": "87497b8a-8cec-4681-e39c-cf5ef38f0e6a"
      },
      "execution_count": 27,
      "outputs": [
        {
          "output_type": "stream",
          "name": "stdout",
          "text": [
            "10\n",
            "[7, 8, 9]\n"
          ]
        }
      ]
    },
    {
      "cell_type": "markdown",
      "source": [
        "## LIST COMPREHENSION"
      ],
      "metadata": {
        "id": "1073Uew5uF1r"
      }
    },
    {
      "cell_type": "code",
      "source": [
        "a = [1,2,3,4,5,6,7,8,9,10]\n",
        "b = [i*i for i in a] #squares each element\n",
        "print(b)\n"
      ],
      "metadata": {
        "colab": {
          "base_uri": "https://localhost:8080/"
        },
        "id": "GEZlFzHytnMt",
        "outputId": "71a83cd1-9ce7-4042-9e76-ef5498152d27"
      },
      "execution_count": 28,
      "outputs": [
        {
          "output_type": "stream",
          "name": "stdout",
          "text": [
            "[1, 4, 9, 16, 25, 36, 49, 64, 81, 100]\n"
          ]
        }
      ]
    },
    {
      "cell_type": "markdown",
      "source": [
        "## nested lists"
      ],
      "metadata": {
        "id": "lW5yzVItv32v"
      }
    },
    {
      "cell_type": "code",
      "source": [
        "a = [[1,2], [3,4]]\n",
        "print(a)\n",
        "print(a[0])"
      ],
      "metadata": {
        "colab": {
          "base_uri": "https://localhost:8080/"
        },
        "id": "bg-HgnKzuJP6",
        "outputId": "7aec23da-3d0f-4137-de17-6452f711caf2"
      },
      "execution_count": 29,
      "outputs": [
        {
          "output_type": "stream",
          "name": "stdout",
          "text": [
            "[[1, 2], [3, 4]]\n",
            "[1, 2]\n"
          ]
        }
      ]
    },
    {
      "cell_type": "code",
      "source": [
        ""
      ],
      "metadata": {
        "id": "HTSVc_CCv_te"
      },
      "execution_count": 29,
      "outputs": []
    },
    {
      "cell_type": "markdown",
      "source": [
        "# TUPLES\n",
        "\n",
        "---\n",
        "\n"
      ],
      "metadata": {
        "id": "91XNa0dCwfdN"
      }
    },
    {
      "cell_type": "markdown",
      "source": [
        "A tuple is a collection of objects which is ordered and immutable. Tuples are similar to lists, the main difference is the immutability. In Python tuples are written with round brackets and comma separated values.\n",
        "Reasons to uise tuples over lists :\n",
        "* Generally used for objects that belong together.\n",
        "* Use tuple for heterogeneous (different) datatypes and list for homogeneous (similar) datatypes.\n",
        "* Since tuple are immutable, iterating through tuple is slightly faster than with list.\n",
        "* Tuples with their immutable elements can be used as key for a dictionary. This is not possible with lists.\n",
        "* If you have data that doesn't change, implementing it as tuple will guarantee that it remains write-protected."
      ],
      "metadata": {
        "id": "0YsHsEljwkQV"
      }
    },
    {
      "cell_type": "markdown",
      "source": [
        "## Creating Tuples"
      ],
      "metadata": {
        "id": "__WcphYuxMUE"
      }
    },
    {
      "cell_type": "code",
      "source": [
        "tuple_1 = (\"Max\", 28, \"New York\")\n",
        "tuple_2 = \"Linda\", 25, \"Miami\" # Parentheses are optional\n",
        "# Special case: a tuple with only one element needs to have a comma at the end, \n",
        "# otherwise it is not recognized as tuple\n",
        "tuple_3 = (25,)\n",
        "print(tuple_1)\n",
        "print(tuple_2)\n",
        "print(tuple_3)"
      ],
      "metadata": {
        "colab": {
          "base_uri": "https://localhost:8080/"
        },
        "id": "79pO2X_Ewh1a",
        "outputId": "f7bd04f3-d691-4fa5-ae19-ab65d0bb2e87"
      },
      "execution_count": 30,
      "outputs": [
        {
          "output_type": "stream",
          "name": "stdout",
          "text": [
            "('Max', 28, 'New York')\n",
            "('Linda', 25, 'Miami')\n",
            "(25,)\n"
          ]
        }
      ]
    },
    {
      "cell_type": "code",
      "source": [
        "# Or convert an iterable (list, dict, string) with the built-in tuple function\n",
        "tuple_4 = tuple([1,2,3])\n",
        "print(tuple_4)"
      ],
      "metadata": {
        "colab": {
          "base_uri": "https://localhost:8080/"
        },
        "id": "_t2o3GJTxCO4",
        "outputId": "09fbc68e-1789-45a8-8139-29a369733e1d"
      },
      "execution_count": 31,
      "outputs": [
        {
          "output_type": "stream",
          "name": "stdout",
          "text": [
            "(1, 2, 3)\n"
          ]
        }
      ]
    },
    {
      "cell_type": "markdown",
      "source": [
        "## access elements"
      ],
      "metadata": {
        "id": "3yE5nWOj5fOv"
      }
    },
    {
      "cell_type": "code",
      "source": [
        "item = tuple_1[0]\n",
        "print(item)\n",
        "# You can also use negative indexing, e.g -1 refers to the last item,\n",
        "# -2 to the second last item, and so on\n",
        "item = tuple_1[-1]\n",
        "print(item)"
      ],
      "metadata": {
        "colab": {
          "base_uri": "https://localhost:8080/"
        },
        "id": "ERAIKUXcxLlg",
        "outputId": "20bb4980-267b-4168-f905-88e685af329a"
      },
      "execution_count": 32,
      "outputs": [
        {
          "output_type": "stream",
          "name": "stdout",
          "text": [
            "Max\n",
            "New York\n"
          ]
        }
      ]
    },
    {
      "cell_type": "markdown",
      "source": [
        "## add or change items - won't work as tuples are immutable and will throw TypeError"
      ],
      "metadata": {
        "id": "idzRQI225lnA"
      }
    },
    {
      "cell_type": "markdown",
      "source": [
        "## deleting a tuple"
      ],
      "metadata": {
        "id": "Wcj-2ofv544b"
      }
    },
    {
      "cell_type": "code",
      "source": [
        "del tuple_2"
      ],
      "metadata": {
        "id": "m8M0LBS75iuo"
      },
      "execution_count": 33,
      "outputs": []
    },
    {
      "cell_type": "code",
      "source": [
        "print(tuple_2)"
      ],
      "metadata": {
        "colab": {
          "base_uri": "https://localhost:8080/",
          "height": 165
        },
        "id": "7Hye2y3R59KK",
        "outputId": "764b16bf-d49d-4cf0-d935-db8565155ccc"
      },
      "execution_count": 34,
      "outputs": [
        {
          "output_type": "error",
          "ename": "NameError",
          "evalue": "ignored",
          "traceback": [
            "\u001b[0;31m---------------------------------------------------------------------------\u001b[0m",
            "\u001b[0;31mNameError\u001b[0m                                 Traceback (most recent call last)",
            "\u001b[0;32m<ipython-input-34-3fbb78cd61a7>\u001b[0m in \u001b[0;36m<module>\u001b[0;34m()\u001b[0m\n\u001b[0;32m----> 1\u001b[0;31m \u001b[0mprint\u001b[0m\u001b[0;34m(\u001b[0m\u001b[0mtuple_2\u001b[0m\u001b[0;34m)\u001b[0m\u001b[0;34m\u001b[0m\u001b[0;34m\u001b[0m\u001b[0m\n\u001b[0m",
            "\u001b[0;31mNameError\u001b[0m: name 'tuple_2' is not defined"
          ]
        }
      ]
    },
    {
      "cell_type": "markdown",
      "source": [
        "## Iterating in a tuple"
      ],
      "metadata": {
        "id": "CNG6ExNI6GVF"
      }
    },
    {
      "cell_type": "code",
      "source": [
        "for i in tuple_1:\n",
        "  print(i)"
      ],
      "metadata": {
        "colab": {
          "base_uri": "https://localhost:8080/"
        },
        "id": "tUEQE00R5_KQ",
        "outputId": "dceb2b6f-6c03-4747-819c-d348f46f65e9"
      },
      "execution_count": 37,
      "outputs": [
        {
          "output_type": "stream",
          "name": "stdout",
          "text": [
            "Max\n",
            "28\n",
            "New York\n"
          ]
        }
      ]
    },
    {
      "cell_type": "markdown",
      "source": [
        "## Check if an item exists"
      ],
      "metadata": {
        "id": "IAsca11e6NEG"
      }
    },
    {
      "cell_type": "code",
      "source": [
        "if \"New York\" in tuple_1:\n",
        "  print(\"yes\")\n",
        "else:\n",
        "  print(\"no\")"
      ],
      "metadata": {
        "colab": {
          "base_uri": "https://localhost:8080/"
        },
        "id": "gm0jqgxG6KnK",
        "outputId": "48330238-abda-42af-bc8e-c8fbdf6b4822"
      },
      "execution_count": 38,
      "outputs": [
        {
          "output_type": "stream",
          "name": "stdout",
          "text": [
            "yes\n"
          ]
        }
      ]
    },
    {
      "cell_type": "markdown",
      "source": [
        "## USeful Methods"
      ],
      "metadata": {
        "id": "gk8ty6NC6V-A"
      }
    },
    {
      "cell_type": "code",
      "source": [
        "my_tuple = ('a','p','p','l','e',)\n"
      ],
      "metadata": {
        "id": "Cy2rvaMG6UUe"
      },
      "execution_count": 39,
      "outputs": []
    },
    {
      "cell_type": "code",
      "source": [
        "# len() : get the number of elements in a tuple\n",
        "print(len(my_tuple))"
      ],
      "metadata": {
        "colab": {
          "base_uri": "https://localhost:8080/"
        },
        "id": "cDxBM4bf7wDs",
        "outputId": "915e8df3-11d0-4d24-e5d7-705a87cb961b"
      },
      "execution_count": 40,
      "outputs": [
        {
          "output_type": "stream",
          "name": "stdout",
          "text": [
            "5\n"
          ]
        }
      ]
    },
    {
      "cell_type": "code",
      "source": [
        "# count(x) : Return the number of items that is equal to x\n",
        "print(my_tuple.count('p'))"
      ],
      "metadata": {
        "colab": {
          "base_uri": "https://localhost:8080/"
        },
        "id": "RP33jjI77wnn",
        "outputId": "35d04bdf-75a1-4d44-f531-6d02e5403d38"
      },
      "execution_count": 41,
      "outputs": [
        {
          "output_type": "stream",
          "name": "stdout",
          "text": [
            "2\n"
          ]
        }
      ]
    },
    {
      "cell_type": "code",
      "source": [
        "# index(x) : Return index of first item that is equal to x\n",
        "print(my_tuple.index('l'))\n"
      ],
      "metadata": {
        "colab": {
          "base_uri": "https://localhost:8080/"
        },
        "id": "Z6xBLVGR7zaF",
        "outputId": "3dc0c71f-e719-4050-9f7c-51b57adb5db8"
      },
      "execution_count": 42,
      "outputs": [
        {
          "output_type": "stream",
          "name": "stdout",
          "text": [
            "3\n"
          ]
        }
      ]
    },
    {
      "cell_type": "code",
      "source": [
        "# repetition\n",
        "my_tuple = ('a', 'b') * 5\n",
        "print(my_tuple)"
      ],
      "metadata": {
        "colab": {
          "base_uri": "https://localhost:8080/"
        },
        "id": "6OIG61G37147",
        "outputId": "d0e795a0-4fda-4589-97e0-6b1de36d11b7"
      },
      "execution_count": 43,
      "outputs": [
        {
          "output_type": "stream",
          "name": "stdout",
          "text": [
            "('a', 'b', 'a', 'b', 'a', 'b', 'a', 'b', 'a', 'b')\n"
          ]
        }
      ]
    },
    {
      "cell_type": "code",
      "source": [
        "# concatenation\n",
        "my_tuple = (1,2,3) + (4,5,6)\n",
        "print(my_tuple)"
      ],
      "metadata": {
        "colab": {
          "base_uri": "https://localhost:8080/"
        },
        "id": "QTmVyrQG8GHo",
        "outputId": "5e0d4006-a53c-461f-edc7-7c34078ca6c6"
      },
      "execution_count": 44,
      "outputs": [
        {
          "output_type": "stream",
          "name": "stdout",
          "text": [
            "(1, 2, 3, 4, 5, 6)\n"
          ]
        }
      ]
    },
    {
      "cell_type": "code",
      "source": [
        "# convert list to a tuple and vice versa\n",
        "my_list = ['a', 'b', 'c', 'd']\n",
        "list_to_tuple = tuple(my_list)\n",
        "print(list_to_tuple)\n",
        "\n",
        "tuple_to_list = list(list_to_tuple)\n",
        "print(tuple_to_list)"
      ],
      "metadata": {
        "colab": {
          "base_uri": "https://localhost:8080/"
        },
        "id": "kaw9agne8NqG",
        "outputId": "702b4d63-fa9c-4717-a2ab-c40e3da02229"
      },
      "execution_count": 45,
      "outputs": [
        {
          "output_type": "stream",
          "name": "stdout",
          "text": [
            "('a', 'b', 'c', 'd')\n",
            "['a', 'b', 'c', 'd']\n"
          ]
        }
      ]
    },
    {
      "cell_type": "code",
      "source": [
        "# convert string to tuple\n",
        "string_to_tuple = tuple('Hello')\n",
        "print(string_to_tuple)"
      ],
      "metadata": {
        "colab": {
          "base_uri": "https://localhost:8080/"
        },
        "id": "DPq_VocB8RWX",
        "outputId": "031fab8c-e23c-4433-8b79-5dbb9991b88b"
      },
      "execution_count": 46,
      "outputs": [
        {
          "output_type": "stream",
          "name": "stdout",
          "text": [
            "('H', 'e', 'l', 'l', 'o')\n"
          ]
        }
      ]
    },
    {
      "cell_type": "markdown",
      "source": [
        "## Slicing"
      ],
      "metadata": {
        "id": "P9erg7cp8ZXt"
      }
    },
    {
      "cell_type": "code",
      "source": [
        "# a[start:stop:step], default step is 1\n",
        "a = (1, 2, 3, 4, 5, 6, 7, 8, 9, 10)\n",
        "b = a[1:3] # Note that the last index is not included\n",
        "print(b)\n",
        "b = a[2:] # until the end\n",
        "print(b)\n",
        "b = a[:3] # from beginning\n",
        "print(b)\n",
        "b = a[::2] # start to end with every second item\n",
        "print(b)\n",
        "b = a[::-1] # reverse tuple\n",
        "print(b)"
      ],
      "metadata": {
        "colab": {
          "base_uri": "https://localhost:8080/"
        },
        "id": "Prfan5jX8XVA",
        "outputId": "f7f01643-81d3-447b-e55b-07c1c5c84998"
      },
      "execution_count": 47,
      "outputs": [
        {
          "output_type": "stream",
          "name": "stdout",
          "text": [
            "(2, 3)\n",
            "(3, 4, 5, 6, 7, 8, 9, 10)\n",
            "(1, 2, 3)\n",
            "(1, 3, 5, 7, 9)\n",
            "(10, 9, 8, 7, 6, 5, 4, 3, 2, 1)\n"
          ]
        }
      ]
    },
    {
      "cell_type": "markdown",
      "source": [
        "## Unpack Tuple"
      ],
      "metadata": {
        "id": "eQIKvj698hgu"
      }
    },
    {
      "cell_type": "code",
      "source": [
        "#similar to array destructuring in javascript\n",
        "tuple_1 = (\"Max\", 28, \"New York\")\n",
        "name, age, city = tuple_1\n",
        "print(name)\n",
        "print(age)\n",
        "print(city)"
      ],
      "metadata": {
        "colab": {
          "base_uri": "https://localhost:8080/"
        },
        "id": "Wo4YN0UK8e51",
        "outputId": "375f0141-f0de-4311-e978-3150bb7120e2"
      },
      "execution_count": 48,
      "outputs": [
        {
          "output_type": "stream",
          "name": "stdout",
          "text": [
            "Max\n",
            "28\n",
            "New York\n"
          ]
        }
      ]
    },
    {
      "cell_type": "code",
      "source": [
        "# tip: unpack multiple elements to a list with *\n",
        "# there can not be more than one starred expression \n",
        "my_tuple = (0, 1, 2, 3, 4, 5)\n",
        "item_first, *items_between, item_last = my_tuple\n",
        "print(item_first)\n",
        "print(items_between)\n",
        "print(item_last)"
      ],
      "metadata": {
        "colab": {
          "base_uri": "https://localhost:8080/"
        },
        "id": "pvFDuOuc8rVX",
        "outputId": "ae0080de-e586-4a03-f71b-f1c138517ba8"
      },
      "execution_count": 49,
      "outputs": [
        {
          "output_type": "stream",
          "name": "stdout",
          "text": [
            "0\n",
            "[1, 2, 3, 4]\n",
            "5\n"
          ]
        }
      ]
    },
    {
      "cell_type": "code",
      "source": [
        "*item_test, item_test2, item_test3, item4 = (0,1,2,3,4,5,6,7,8,9)\n",
        "print(item_test)"
      ],
      "metadata": {
        "colab": {
          "base_uri": "https://localhost:8080/"
        },
        "id": "QCLrgjdJ8uP7",
        "outputId": "a02b4068-166d-42e1-83b9-9fe06debf607"
      },
      "execution_count": 50,
      "outputs": [
        {
          "output_type": "stream",
          "name": "stdout",
          "text": [
            "[0, 1, 2, 3, 4, 5, 6]\n"
          ]
        }
      ]
    },
    {
      "cell_type": "markdown",
      "source": [
        "## Nested Tuples"
      ],
      "metadata": {
        "id": "C6KsMiTg9MUs"
      }
    },
    {
      "cell_type": "code",
      "source": [
        "a = ((0, 1), ('age', 'height'))\n",
        "print(a)\n",
        "print(a[0])"
      ],
      "metadata": {
        "colab": {
          "base_uri": "https://localhost:8080/"
        },
        "id": "kk3d8ghf9As4",
        "outputId": "241eae18-72de-4cb8-c1e2-4c885d9998af"
      },
      "execution_count": 51,
      "outputs": [
        {
          "output_type": "stream",
          "name": "stdout",
          "text": [
            "((0, 1), ('age', 'height'))\n",
            "(0, 1)\n"
          ]
        }
      ]
    },
    {
      "cell_type": "markdown",
      "source": [
        "# COMPARE TUPLE AND LIST\n",
        "The immutability of tuples enables Python to make internal optimizations. Thus, tuples can be more efficient when working with large data."
      ],
      "metadata": {
        "id": "YFM7cactA09a"
      }
    },
    {
      "cell_type": "code",
      "source": [
        "# compare the size\n",
        "import sys\n",
        "my_list = [0, 1, 2, \"hello\", True]\n",
        "my_tuple = (0, 1, 2, \"hello\", True)\n",
        "print(sys.getsizeof(my_list), \"bytes\")\n",
        "print(sys.getsizeof(my_tuple), \"bytes\")\n",
        "\n",
        "# compare the execution time of a list vs. tuple creation statement\n",
        "import timeit\n",
        "print(timeit.timeit(stmt=\"[0, 1, 2, 3, 4, 5]\", number=1000000))\n",
        "print(timeit.timeit(stmt=\"(0, 1, 2, 3, 4, 5)\", number=1000000))"
      ],
      "metadata": {
        "colab": {
          "base_uri": "https://localhost:8080/"
        },
        "id": "scdO-5ZeAu7e",
        "outputId": "b34d8bb1-cd83-4ebe-ca46-6fc396cf1dc9"
      },
      "execution_count": 52,
      "outputs": [
        {
          "output_type": "stream",
          "name": "stdout",
          "text": [
            "112 bytes\n",
            "96 bytes\n",
            "0.13138070600007268\n",
            "0.017883699999856617\n"
          ]
        }
      ]
    },
    {
      "cell_type": "markdown",
      "source": [
        "# **DICTIONARY**\n",
        "A dictionary is a collection which is unordered, changeable and indexed. A dictionary consists of a collection of key-value pairs. Each key-value pair maps the key to its associated value. A dictionary is written in braces. Each key is separated from its value by a colon (:), and the items are separated by commas."
      ],
      "metadata": {
        "id": "e8utmqnl4VZ7"
      }
    },
    {
      "cell_type": "markdown",
      "source": [
        "## Create a dictionary"
      ],
      "metadata": {
        "id": "YT_BRsA04jhf"
      }
    },
    {
      "cell_type": "code",
      "source": [
        "my_dict = {\"name\":\"Max\", \"age\":28, \"city\":\"New York\"}\n",
        "print(my_dict)\n",
        "\n",
        "# or use the dict constructor, note: no quotes necessary for keys\n",
        "my_dict_2 = dict(name=\"Lisa\", age=27, city=\"Boston\")\n",
        "print(my_dict_2)"
      ],
      "metadata": {
        "id": "s1vQqT4lA9O6",
        "colab": {
          "base_uri": "https://localhost:8080/"
        },
        "outputId": "7b658516-6f3e-4e1a-9288-50d17ffb8b9a"
      },
      "execution_count": 53,
      "outputs": [
        {
          "output_type": "stream",
          "name": "stdout",
          "text": [
            "{'name': 'Max', 'age': 28, 'city': 'New York'}\n",
            "{'name': 'Lisa', 'age': 27, 'city': 'Boston'}\n"
          ]
        }
      ]
    },
    {
      "cell_type": "markdown",
      "source": [
        "## Access items"
      ],
      "metadata": {
        "id": "1knYCuCu4u9m"
      }
    },
    {
      "cell_type": "code",
      "source": [
        "import logging\n",
        "logger = logging.getLogger(\"test\")\n",
        "name_in_dict = my_dict[\"name\"]\n",
        "print(name_in_dict)\n",
        "\n",
        "# KeyError if no key is found\n",
        "try:\n",
        "  print(my_dict[\"lastname\"])\n",
        "except Exception as e:\n",
        "  logger.error(repr(e))"
      ],
      "metadata": {
        "id": "3UbZXTARBKSD",
        "colab": {
          "base_uri": "https://localhost:8080/"
        },
        "outputId": "fbe43588-e6c5-4e87-a137-15bf0c4c80fd"
      },
      "execution_count": 60,
      "outputs": [
        {
          "output_type": "stream",
          "name": "stderr",
          "text": [
            "ERROR:test:KeyError('lastname')\n"
          ]
        },
        {
          "output_type": "stream",
          "name": "stdout",
          "text": [
            "Max\n"
          ]
        }
      ]
    },
    {
      "cell_type": "markdown",
      "source": [
        "## Add and change items"
      ],
      "metadata": {
        "id": "z3rG5vCO5COJ"
      }
    },
    {
      "cell_type": "code",
      "source": [
        "# add a new key\n",
        "my_dict[\"email\"] = \"max@xyz.com\"\n",
        "print(my_dict)\n",
        "\n",
        "# or overwrite the now existing key\n",
        "my_dict[\"email\"] = \"coolmax@xyz.com\"\n",
        "print(my_dict)"
      ],
      "metadata": {
        "colab": {
          "base_uri": "https://localhost:8080/"
        },
        "id": "dI4q-vaY48D4",
        "outputId": "d8dd84d7-58c1-4c37-9608-d7092f990482"
      },
      "execution_count": 61,
      "outputs": [
        {
          "output_type": "stream",
          "name": "stdout",
          "text": [
            "{'name': 'Max', 'age': 28, 'city': 'New York', 'email': 'max@xyz.com'}\n",
            "{'name': 'Max', 'age': 28, 'city': 'New York', 'email': 'coolmax@xyz.com'}\n"
          ]
        }
      ]
    },
    {
      "cell_type": "markdown",
      "source": [
        "## Delete items"
      ],
      "metadata": {
        "id": "y8rMXmAZ5MEZ"
      }
    },
    {
      "cell_type": "code",
      "source": [
        "# delete a key-value pair\n",
        "del my_dict[\"email\"]\n",
        "\n",
        "print(my_dict)"
      ],
      "metadata": {
        "colab": {
          "base_uri": "https://localhost:8080/"
        },
        "id": "YSKEJlBX5Gv5",
        "outputId": "49ecfbb2-4398-45f4-b47f-28f3bafa6e2b"
      },
      "execution_count": 62,
      "outputs": [
        {
          "output_type": "stream",
          "name": "stdout",
          "text": [
            "{'name': 'Max', 'age': 28, 'city': 'New York'}\n"
          ]
        }
      ]
    },
    {
      "cell_type": "code",
      "source": [
        "# this returns the value and removes the key-value pair\n",
        "print(\"popped value:\", my_dict.pop(\"age\"))"
      ],
      "metadata": {
        "colab": {
          "base_uri": "https://localhost:8080/"
        },
        "id": "Yu3u6MB_7IHH",
        "outputId": "239bc0e4-1bec-41a6-9a21-b00fff863e52"
      },
      "execution_count": 63,
      "outputs": [
        {
          "output_type": "stream",
          "name": "stdout",
          "text": [
            "popped value: 28\n"
          ]
        }
      ]
    },
    {
      "cell_type": "code",
      "source": [
        "# return and removes the last inserted key-value pair \n",
        "# (in versions before Python 3.7 it removes an arbitrary pair)\n",
        "print(\"popped item:\", my_dict.popitem())"
      ],
      "metadata": {
        "colab": {
          "base_uri": "https://localhost:8080/"
        },
        "id": "9iOIXgYW7Kln",
        "outputId": "8149674b-2a93-427c-9a8f-6965432cb377"
      },
      "execution_count": 64,
      "outputs": [
        {
          "output_type": "stream",
          "name": "stdout",
          "text": [
            "popped item: ('city', 'New York')\n"
          ]
        }
      ]
    },
    {
      "cell_type": "code",
      "source": [
        "print(my_dict)\n",
        "\n",
        "# clear() : remove all pairs\n",
        "# my_dict.clear()"
      ],
      "metadata": {
        "colab": {
          "base_uri": "https://localhost:8080/"
        },
        "id": "7bopqQOM7O0g",
        "outputId": "d3903c31-2fbb-4dcc-c3a6-bec4144180f4"
      },
      "execution_count": 65,
      "outputs": [
        {
          "output_type": "stream",
          "name": "stdout",
          "text": [
            "{'name': 'Max'}\n"
          ]
        }
      ]
    },
    {
      "cell_type": "markdown",
      "source": [
        "## Check for keys"
      ],
      "metadata": {
        "id": "RuJpVRY37Th0"
      }
    },
    {
      "cell_type": "code",
      "source": [
        "my_dict = {\"name\":\"Max\", \"age\":28, \"city\":\"New York\"}\n",
        "# use if .. in ..\n",
        "if \"name\" in my_dict:\n",
        "    print(my_dict[\"name\"])"
      ],
      "metadata": {
        "colab": {
          "base_uri": "https://localhost:8080/"
        },
        "id": "Dn94aWqz7R9s",
        "outputId": "a291c0a0-2558-4e75-de65-8532748d0598"
      },
      "execution_count": 66,
      "outputs": [
        {
          "output_type": "stream",
          "name": "stdout",
          "text": [
            "Max\n"
          ]
        }
      ]
    },
    {
      "cell_type": "code",
      "source": [
        "# use try except\n",
        "try:\n",
        "    print(my_dict[\"firstname\"])\n",
        "except KeyError:\n",
        "    print(\"No key found\")"
      ],
      "metadata": {
        "colab": {
          "base_uri": "https://localhost:8080/"
        },
        "id": "MlQdB35k7ZIS",
        "outputId": "ffcbd1c9-99ab-4970-d1a4-8f45bd34ff8e"
      },
      "execution_count": 67,
      "outputs": [
        {
          "output_type": "stream",
          "name": "stdout",
          "text": [
            "No key found\n"
          ]
        }
      ]
    },
    {
      "cell_type": "markdown",
      "source": [
        "### using try except with lists and tuples"
      ],
      "metadata": {
        "id": "MyVrTc7s7gLe"
      }
    },
    {
      "cell_type": "code",
      "source": [
        "my_list = [1,2,3,4,5]\n",
        "try:\n",
        "  print(my_list[10])\n",
        "except Exception as e:\n",
        "  print(e)"
      ],
      "metadata": {
        "id": "KRht0lq77bjS",
        "colab": {
          "base_uri": "https://localhost:8080/"
        },
        "outputId": "a686f210-fd76-4b87-fafd-7d026889bb7a"
      },
      "execution_count": 68,
      "outputs": [
        {
          "output_type": "stream",
          "name": "stdout",
          "text": [
            "list index out of range\n"
          ]
        }
      ]
    },
    {
      "cell_type": "markdown",
      "source": [
        "## Looping through dictionary"
      ],
      "metadata": {
        "id": "qi5VmUdd73i7"
      }
    },
    {
      "cell_type": "code",
      "source": [
        "#loop over keys\n",
        "for key in my_dict:\n",
        "  print(key,\" : \", my_dict[key])"
      ],
      "metadata": {
        "colab": {
          "base_uri": "https://localhost:8080/"
        },
        "id": "8KzXa-iH7__X",
        "outputId": "210da544-85a8-4b61-baa2-0cf3e6f13ff7"
      },
      "execution_count": 69,
      "outputs": [
        {
          "output_type": "stream",
          "name": "stdout",
          "text": [
            "name  :  Max\n",
            "age  :  28\n",
            "city  :  New York\n"
          ]
        }
      ]
    },
    {
      "cell_type": "code",
      "source": [
        "#loop over keys:\n",
        "for key in my_dict.keys():\n",
        "  print(key)"
      ],
      "metadata": {
        "colab": {
          "base_uri": "https://localhost:8080/"
        },
        "id": "GvcD5Ouu8KC2",
        "outputId": "72e33b8a-ce51-4da9-dc44-e6387e4677fe"
      },
      "execution_count": 70,
      "outputs": [
        {
          "output_type": "stream",
          "name": "stdout",
          "text": [
            "name\n",
            "age\n",
            "city\n"
          ]
        }
      ]
    },
    {
      "cell_type": "code",
      "source": [
        "#loop over values\n",
        "for value in my_dict.values():\n",
        "  print(value)"
      ],
      "metadata": {
        "colab": {
          "base_uri": "https://localhost:8080/"
        },
        "id": "gUoM24kU9Hm7",
        "outputId": "550d9036-7c68-47c5-dad6-6464e3161c64"
      },
      "execution_count": 72,
      "outputs": [
        {
          "output_type": "stream",
          "name": "stdout",
          "text": [
            "Max\n",
            "28\n",
            "New York\n"
          ]
        }
      ]
    },
    {
      "cell_type": "code",
      "source": [
        "#loop over keys and values:\n",
        "for key, value in my_dict.items():\n",
        "  print(key, value)"
      ],
      "metadata": {
        "colab": {
          "base_uri": "https://localhost:8080/"
        },
        "id": "N6O6qETW9QtU",
        "outputId": "1432d69e-2fe8-4e1d-c35c-0d93b0f40d8a"
      },
      "execution_count": 73,
      "outputs": [
        {
          "output_type": "stream",
          "name": "stdout",
          "text": [
            "name Max\n",
            "age 28\n",
            "city New York\n"
          ]
        }
      ]
    },
    {
      "cell_type": "markdown",
      "source": [
        "## Copy a dictionary"
      ],
      "metadata": {
        "id": "MR4uupi-9eqJ"
      }
    },
    {
      "cell_type": "code",
      "source": [
        "dict_org = {\"name\":\"Max\", \"age\":28, \"city\":\"New York\"}\n",
        "# this just copies the reference to the dict, so be careful\n",
        "dict_copy = dict_org\n",
        "\n",
        "# now modifying the copy also affects the original\n",
        "dict_copy[\"name\"] = \"Lisa\"\n",
        "print(dict_copy)\n",
        "print(dict_org)"
      ],
      "metadata": {
        "colab": {
          "base_uri": "https://localhost:8080/"
        },
        "id": "dOmhmG2R9c9N",
        "outputId": "379d2ff8-380d-4786-9105-82dea8d83788"
      },
      "execution_count": 74,
      "outputs": [
        {
          "output_type": "stream",
          "name": "stdout",
          "text": [
            "{'name': 'Lisa', 'age': 28, 'city': 'New York'}\n",
            "{'name': 'Lisa', 'age': 28, 'city': 'New York'}\n"
          ]
        }
      ]
    },
    {
      "cell_type": "code",
      "source": [
        "# use copy(), or dict(x) to actually copy the dict\n",
        "dict_org = {\"name\":\"Max\", \"age\":28, \"city\":\"New York\"}\n",
        "\n",
        "dict_copy = dict_org.copy()\n",
        "# dict_copy = dict(dict_org)\n",
        "\n",
        "# now modifying the copy does not affect the original\n",
        "dict_copy[\"name\"] = \"Lisa\"\n",
        "print(dict_copy)\n",
        "print(dict_org)"
      ],
      "metadata": {
        "colab": {
          "base_uri": "https://localhost:8080/"
        },
        "id": "3-pcvSSW9lyZ",
        "outputId": "56f55c82-1537-4b27-a798-839ec4987ecd"
      },
      "execution_count": 75,
      "outputs": [
        {
          "output_type": "stream",
          "name": "stdout",
          "text": [
            "{'name': 'Lisa', 'age': 28, 'city': 'New York'}\n",
            "{'name': 'Max', 'age': 28, 'city': 'New York'}\n"
          ]
        }
      ]
    },
    {
      "cell_type": "markdown",
      "source": [
        "## Merge two dictionaries"
      ],
      "metadata": {
        "id": "vNrR2_ae9rIT"
      }
    },
    {
      "cell_type": "code",
      "source": [
        "# Use the update() method to merge 2 dicts\n",
        "# existing keys are overwritten, new keys are added\n",
        "my_dict = {\"name\":\"Max\", \"age\":28, \"email\":\"max@xyz.com\"}\n",
        "my_dict_2 = dict(name=\"Lisa\", age=27, city=\"Boston\")\n",
        "\n",
        "my_dict.update(my_dict_2)\n",
        "print(my_dict)"
      ],
      "metadata": {
        "colab": {
          "base_uri": "https://localhost:8080/"
        },
        "id": "9kHVTj_J9pYg",
        "outputId": "4128e978-929e-46e9-a550-dce47cae2cc0"
      },
      "execution_count": 76,
      "outputs": [
        {
          "output_type": "stream",
          "name": "stdout",
          "text": [
            "{'name': 'Lisa', 'age': 27, 'email': 'max@xyz.com', 'city': 'Boston'}\n"
          ]
        }
      ]
    },
    {
      "cell_type": "markdown",
      "source": [
        "## Possible key types\n",
        "Any immutable type, like strings or numbers can be used as a key. Also, a tuple can be used if it contains only immutable elements."
      ],
      "metadata": {
        "id": "8QlTCIsy90vF"
      }
    },
    {
      "cell_type": "code",
      "source": [
        "# use numbers as key, but be careful\n",
        "my_dict = {3: 9, 6: 36, 9:81}\n",
        "# do not mistake the keys as indices of a list, e.g my_dict[0] is not possible here\n",
        "print(my_dict[3], my_dict[6], my_dict[9])"
      ],
      "metadata": {
        "colab": {
          "base_uri": "https://localhost:8080/"
        },
        "id": "wFXz15Zf9w9f",
        "outputId": "7ca8c30d-eaff-47db-ddde-52211ea6bed4"
      },
      "execution_count": 77,
      "outputs": [
        {
          "output_type": "stream",
          "name": "stdout",
          "text": [
            "9 36 81\n"
          ]
        }
      ]
    },
    {
      "cell_type": "code",
      "source": [
        "# use a tuple with immutable elements (e.g. number, string)\n",
        "my_tuple = (8, 7)\n",
        "my_dict = {my_tuple: 15}\n",
        "\n",
        "print(my_dict[my_tuple])\n"
      ],
      "metadata": {
        "colab": {
          "base_uri": "https://localhost:8080/"
        },
        "id": "X9ta-fLZHzec",
        "outputId": "2cb29b36-cd2e-4bc3-f799-6aaf197e6626"
      },
      "execution_count": 78,
      "outputs": [
        {
          "output_type": "stream",
          "name": "stdout",
          "text": [
            "15\n"
          ]
        }
      ]
    },
    {
      "cell_type": "code",
      "source": [
        "print(my_dict[(8,7)])\n",
        "print(my_dict[8,7])"
      ],
      "metadata": {
        "colab": {
          "base_uri": "https://localhost:8080/"
        },
        "id": "iYMdTBfCH5LD",
        "outputId": "1b91c3b8-af26-45d0-dfe6-2bfd345d7296"
      },
      "execution_count": 83,
      "outputs": [
        {
          "output_type": "stream",
          "name": "stdout",
          "text": [
            "15\n",
            "15\n"
          ]
        }
      ]
    },
    {
      "cell_type": "code",
      "source": [
        "# a list is not possible because it is not immutable\n",
        "# this will raise an Error:\n",
        "try:\n",
        "  my_list = [8, 7]\n",
        "  my_dict = {my_list: 15}\n",
        "except Exception as e:\n",
        "  print(repr(e))"
      ],
      "metadata": {
        "colab": {
          "base_uri": "https://localhost:8080/"
        },
        "id": "Qw71-PHMH8IJ",
        "outputId": "6fe8c450-bbde-454b-add9-83ec2a0871eb"
      },
      "execution_count": 84,
      "outputs": [
        {
          "output_type": "stream",
          "name": "stdout",
          "text": [
            "TypeError(\"unhashable type: 'list'\")\n"
          ]
        }
      ]
    },
    {
      "cell_type": "markdown",
      "source": [
        "## Nested Dictionaries\n",
        "\n",
        "The values can also be container types (e.g. lists, tuples, dictionaries)."
      ],
      "metadata": {
        "id": "TqbcPuRvIa6-"
      }
    },
    {
      "cell_type": "code",
      "source": [
        "my_dict_1 = {\"name\": \"Max\", \"age\": 28}\n",
        "my_dict_2 = {\"name\": \"Alex\", \"age\": 25}\n",
        "nested_dict = {\"dictA\": my_dict_1,\n",
        "               \"dictB\": my_dict_2}\n",
        "print(nested_dict)"
      ],
      "metadata": {
        "colab": {
          "base_uri": "https://localhost:8080/"
        },
        "id": "ZBH34ij2IXlk",
        "outputId": "ee2c239d-ddb5-45da-cb8a-ce16854316d5"
      },
      "execution_count": 85,
      "outputs": [
        {
          "output_type": "stream",
          "name": "stdout",
          "text": [
            "{'dictA': {'name': 'Max', 'age': 28}, 'dictB': {'name': 'Alex', 'age': 25}}\n"
          ]
        }
      ]
    },
    {
      "cell_type": "markdown",
      "source": [
        "# SETS\n",
        "A Set is an unordered collection data type that is unindexed, mutable, and has no duplicate elements. Sets are created with braces."
      ],
      "metadata": {
        "id": "gOCtEbi1IseX"
      }
    },
    {
      "cell_type": "markdown",
      "source": [
        "## Create a set"
      ],
      "metadata": {
        "id": "h8g4hpL2IzSn"
      }
    },
    {
      "cell_type": "code",
      "source": [
        "my_set = {\"apple\", \"banana\", \"cherry\"}\n",
        "print(my_set)"
      ],
      "metadata": {
        "colab": {
          "base_uri": "https://localhost:8080/"
        },
        "id": "GN4sPbmmIicD",
        "outputId": "2b8ad481-459c-452d-8749-37be0301f7ec"
      },
      "execution_count": 86,
      "outputs": [
        {
          "output_type": "stream",
          "name": "stdout",
          "text": [
            "{'banana', 'cherry', 'apple'}\n"
          ]
        }
      ]
    },
    {
      "cell_type": "code",
      "source": [
        "# or use the set function and create from an iterable, e.g. list, tuple, string\n",
        "my_set_2 = set([\"one\", \"two\", \"three\"])\n",
        "my_set_2 = set((\"one\", \"two\", \"three\"))\n",
        "print(my_set_2)"
      ],
      "metadata": {
        "colab": {
          "base_uri": "https://localhost:8080/"
        },
        "id": "Zna1XVFiJnMA",
        "outputId": "189c32db-a841-40aa-aa75-6ec7e037e41d"
      },
      "execution_count": 87,
      "outputs": [
        {
          "output_type": "stream",
          "name": "stdout",
          "text": [
            "{'three', 'two', 'one'}\n"
          ]
        }
      ]
    },
    {
      "cell_type": "code",
      "source": [
        "print(tuple(my_set))\n",
        "print(list(my_set))"
      ],
      "metadata": {
        "colab": {
          "base_uri": "https://localhost:8080/"
        },
        "id": "yBbgosUuJqvZ",
        "outputId": "e10aa277-ace0-4273-8017-651272a5f459"
      },
      "execution_count": 91,
      "outputs": [
        {
          "output_type": "stream",
          "name": "stdout",
          "text": [
            "('banana', 'cherry', 'apple')\n",
            "['banana', 'cherry', 'apple']\n"
          ]
        }
      ]
    },
    {
      "cell_type": "code",
      "source": [
        "my_set_3 = set(\"aaabbbcccdddeeeeeffff\")\n",
        "print(my_set_3)\n",
        "print(set(\"Hello World  and everyone\"))"
      ],
      "metadata": {
        "colab": {
          "base_uri": "https://localhost:8080/"
        },
        "id": "FbmokX-0Jt6R",
        "outputId": "6349ef2c-beb3-4ce8-cf99-1848042515a9"
      },
      "execution_count": 94,
      "outputs": [
        {
          "output_type": "stream",
          "name": "stdout",
          "text": [
            "{'d', 'b', 'e', 'a', 'c', 'f'}\n",
            "{'y', 'n', 'd', 'a', 'l', 'v', 'H', 'e', ' ', 'W', 'r', 'o'}\n"
          ]
        }
      ]
    },
    {
      "cell_type": "code",
      "source": [
        "# careful: an empty set cannot be created with {}, as this is interpreted as dict\n",
        "# use set() instead\n",
        "a = {}\n",
        "print(type(a))\n",
        "a = set()\n",
        "print(type(a))"
      ],
      "metadata": {
        "colab": {
          "base_uri": "https://localhost:8080/"
        },
        "id": "pMMe3ILpJ-Kh",
        "outputId": "1f79680b-a014-4392-a15b-07c8aab73a37"
      },
      "execution_count": 95,
      "outputs": [
        {
          "output_type": "stream",
          "name": "stdout",
          "text": [
            "<class 'dict'>\n",
            "<class 'set'>\n"
          ]
        }
      ]
    },
    {
      "cell_type": "markdown",
      "source": [
        "## Add elements"
      ],
      "metadata": {
        "id": "desBgP5NKN4v"
      }
    },
    {
      "cell_type": "code",
      "source": [
        "my_set = set()\n",
        "\n",
        "# use the add() method to add elements\n",
        "my_set.add(42)\n",
        "my_set.add(True)\n",
        "my_set.add(\"Hello\")\n",
        "\n",
        "# note: the order does not matter, and might differ when printed\n",
        "print(my_set)"
      ],
      "metadata": {
        "colab": {
          "base_uri": "https://localhost:8080/"
        },
        "id": "b4dy0bVpKMD5",
        "outputId": "28a6b968-4c39-4b4b-9eed-2ab419da8031"
      },
      "execution_count": 96,
      "outputs": [
        {
          "output_type": "stream",
          "name": "stdout",
          "text": [
            "{True, 42, 'Hello'}\n"
          ]
        }
      ]
    },
    {
      "cell_type": "code",
      "source": [
        "# nothing happens when the element is already present:\n",
        "my_set.add(42)\n",
        "print(my_set)"
      ],
      "metadata": {
        "colab": {
          "base_uri": "https://localhost:8080/"
        },
        "id": "ziWx7uccKqVu",
        "outputId": "45becc5b-db08-4684-a15d-2f00a27a8d2f"
      },
      "execution_count": 97,
      "outputs": [
        {
          "output_type": "stream",
          "name": "stdout",
          "text": [
            "{True, 42, 'Hello'}\n"
          ]
        }
      ]
    },
    {
      "cell_type": "markdown",
      "source": [
        "## Remove Elements"
      ],
      "metadata": {
        "id": "hkS5jZgTKur5"
      }
    },
    {
      "cell_type": "code",
      "source": [
        "# remove(x): removes x, raises a KeyError if element is not present\n",
        "my_set = {\"apple\", \"banana\", \"cherry\"}\n",
        "my_set.remove(\"apple\")\n",
        "print(my_set)\n"
      ],
      "metadata": {
        "colab": {
          "base_uri": "https://localhost:8080/"
        },
        "id": "lyB1HY5CKtaW",
        "outputId": "b5bbbf8d-ce33-4412-b94c-423ad3b20863"
      },
      "execution_count": 98,
      "outputs": [
        {
          "output_type": "stream",
          "name": "stdout",
          "text": [
            "{'banana', 'cherry'}\n"
          ]
        }
      ]
    },
    {
      "cell_type": "code",
      "source": [
        "try:\n",
        "  my_set.remove(\"orange\")\n",
        "except Exception as e:\n",
        "  print(repr(e))"
      ],
      "metadata": {
        "colab": {
          "base_uri": "https://localhost:8080/"
        },
        "id": "V4N4WCAFK0CY",
        "outputId": "8dd9a626-d2a7-491d-fca6-8a288de828e4"
      },
      "execution_count": 99,
      "outputs": [
        {
          "output_type": "stream",
          "name": "stdout",
          "text": [
            "KeyError('orange')\n"
          ]
        }
      ]
    },
    {
      "cell_type": "code",
      "source": [
        "# discard(x): removes x, does nothing if element is not present\n",
        "my_set.discard(\"cherry\")\n",
        "my_set.discard(\"blueberry\")\n",
        "print(my_set)"
      ],
      "metadata": {
        "colab": {
          "base_uri": "https://localhost:8080/"
        },
        "id": "DBezdyXnLB6s",
        "outputId": "59c5777f-ec48-469c-e572-99f4085dd865"
      },
      "execution_count": 100,
      "outputs": [
        {
          "output_type": "stream",
          "name": "stdout",
          "text": [
            "{'banana'}\n"
          ]
        }
      ]
    },
    {
      "cell_type": "code",
      "source": [
        "# clear() : remove all elements\n",
        "my_set.clear()\n",
        "print(my_set)"
      ],
      "metadata": {
        "colab": {
          "base_uri": "https://localhost:8080/"
        },
        "id": "OzrqXJpULE8O",
        "outputId": "fdf63ba7-33b9-4ff3-af6c-5182b86fb5db"
      },
      "execution_count": 101,
      "outputs": [
        {
          "output_type": "stream",
          "name": "stdout",
          "text": [
            "set()\n"
          ]
        }
      ]
    },
    {
      "cell_type": "code",
      "source": [
        "# pop() : return and remove a random element\n",
        "a = {True, 2, False, \"hi\", \"hello\"}\n",
        "print(a.pop())\n",
        "print(a)"
      ],
      "metadata": {
        "colab": {
          "base_uri": "https://localhost:8080/"
        },
        "id": "pVDjQiOxLIsu",
        "outputId": "b6c2706d-93e5-407f-9f50-e34ae2ac638b"
      },
      "execution_count": 104,
      "outputs": [
        {
          "output_type": "stream",
          "name": "stdout",
          "text": [
            "False\n",
            "{True, 2, 'hi', 'hello'}\n"
          ]
        }
      ]
    },
    {
      "cell_type": "markdown",
      "source": [
        "## Check if element is in set"
      ],
      "metadata": {
        "id": "PufA8MCHLXG3"
      }
    },
    {
      "cell_type": "code",
      "source": [
        "my_set = {\"apple\", \"banana\", \"cherry\"}\n",
        "if \"apple\" in my_set:\n",
        "    print(\"yes\")"
      ],
      "metadata": {
        "colab": {
          "base_uri": "https://localhost:8080/"
        },
        "id": "gFUEO4SBLK33",
        "outputId": "0ca60859-f6dc-470a-effb-23106625631e"
      },
      "execution_count": 105,
      "outputs": [
        {
          "output_type": "stream",
          "name": "stdout",
          "text": [
            "yes\n"
          ]
        }
      ]
    },
    {
      "cell_type": "markdown",
      "source": [
        "## Iterating"
      ],
      "metadata": {
        "id": "T62HtXgGLsT8"
      }
    },
    {
      "cell_type": "code",
      "source": [
        "# Iterating over a set by using a for in loop\n",
        "# Note: order is not important\n",
        "my_set = {\"apple\", \"banana\", \"cherry\"}\n",
        "for i in my_set:\n",
        "    print(i)"
      ],
      "metadata": {
        "colab": {
          "base_uri": "https://localhost:8080/"
        },
        "id": "GgcizaPHLbZO",
        "outputId": "29a014e6-340a-471e-ee0d-32e5d900c411"
      },
      "execution_count": 106,
      "outputs": [
        {
          "output_type": "stream",
          "name": "stdout",
          "text": [
            "banana\n",
            "cherry\n",
            "apple\n"
          ]
        }
      ]
    },
    {
      "cell_type": "markdown",
      "source": [
        "## Union and Intersection"
      ],
      "metadata": {
        "id": "Mq0ByUsmLyaj"
      }
    },
    {
      "cell_type": "code",
      "source": [
        "odds = {1, 3, 5, 7, 9}\n",
        "evens = {0, 2, 4, 6, 8}\n",
        "primes = {2, 3, 5, 7}\n",
        "\n",
        "# union() : combine elements from both sets, no duplication\n",
        "# note that this does not change the two sets\n",
        "print(odds.union(evens))"
      ],
      "metadata": {
        "colab": {
          "base_uri": "https://localhost:8080/"
        },
        "id": "s4DB3scLLxNI",
        "outputId": "94c93edd-e4bf-47a8-8bd0-c0e1eb4dee02"
      },
      "execution_count": 107,
      "outputs": [
        {
          "output_type": "stream",
          "name": "stdout",
          "text": [
            "{0, 1, 2, 3, 4, 5, 6, 7, 8, 9}\n"
          ]
        }
      ]
    },
    {
      "cell_type": "code",
      "source": [
        "# intersection(): take elements that are in both sets\n",
        "print(odds.intersection(evens))\n",
        "print(odds.intersection(primes))\n",
        "print(evens.intersection(primes))"
      ],
      "metadata": {
        "colab": {
          "base_uri": "https://localhost:8080/"
        },
        "id": "Z3KCJxgZL-6K",
        "outputId": "17023c44-cdaa-4793-cc74-20b880d9d351"
      },
      "execution_count": 110,
      "outputs": [
        {
          "output_type": "stream",
          "name": "stdout",
          "text": [
            "set()\n",
            "{3, 5, 7}\n",
            "{2}\n"
          ]
        }
      ]
    },
    {
      "cell_type": "markdown",
      "source": [
        "## Difference of sets"
      ],
      "metadata": {
        "id": "36cBUVX1MO1-"
      }
    },
    {
      "cell_type": "code",
      "source": [
        "setA = {1, 2, 3, 4, 5, 6, 7, 8, 9}\n",
        "setB = {1, 2, 3, 10, 11, 12}\n",
        "# difference() : returns a set with all the elements from the setA that are not in setB.\n",
        "print(setA.difference(setB))"
      ],
      "metadata": {
        "colab": {
          "base_uri": "https://localhost:8080/"
        },
        "id": "aw35pYoCMFHo",
        "outputId": "3b656e26-1430-48d2-adc3-1154ff5b607d"
      },
      "execution_count": 111,
      "outputs": [
        {
          "output_type": "stream",
          "name": "stdout",
          "text": [
            "{4, 5, 6, 7, 8, 9}\n"
          ]
        }
      ]
    },
    {
      "cell_type": "code",
      "source": [
        "# A.difference(B) is not the same as B.difference(A)\n",
        "print(setB.difference(setA))"
      ],
      "metadata": {
        "colab": {
          "base_uri": "https://localhost:8080/"
        },
        "id": "ooweX99-jcEL",
        "outputId": "9b6f230d-7c95-4aef-e034-6d5e3cd1d869"
      },
      "execution_count": 112,
      "outputs": [
        {
          "output_type": "stream",
          "name": "stdout",
          "text": [
            "{10, 11, 12}\n"
          ]
        }
      ]
    },
    {
      "cell_type": "code",
      "source": [
        "# symmetric_difference() : returns a set with all the elements that are in setA or setB but not in both\n",
        "# A.symmetric_difference(B) = B.symmetric_difference(A)\n",
        "print(setA.symmetric_difference(setB))\n",
        "print(setB.symmetric_difference(setA))"
      ],
      "metadata": {
        "colab": {
          "base_uri": "https://localhost:8080/"
        },
        "id": "mRUicvVDjk1K",
        "outputId": "c67afae8-cb80-4599-a6a5-0b8feb13dc0d"
      },
      "execution_count": 114,
      "outputs": [
        {
          "output_type": "stream",
          "name": "stdout",
          "text": [
            "{4, 5, 6, 7, 8, 9, 10, 11, 12}\n",
            "{4, 5, 6, 7, 8, 9, 10, 11, 12}\n"
          ]
        }
      ]
    },
    {
      "cell_type": "markdown",
      "source": [
        "## Updating Sets"
      ],
      "metadata": {
        "id": "tUcMxvNVj_Mq"
      }
    },
    {
      "cell_type": "code",
      "source": [
        "setA = {1, 2, 3, 4, 5, 6, 7, 8, 9}\n",
        "setB = {1, 2, 3, 10, 11, 12}\n",
        "\n",
        "# update() : Update the set by adding elements from another set.\n",
        "setA.update(setB)\n",
        "print(setA)"
      ],
      "metadata": {
        "colab": {
          "base_uri": "https://localhost:8080/"
        },
        "id": "iJ2z71O4jqse",
        "outputId": "da364409-dc11-42a7-dd4d-447745822084"
      },
      "execution_count": 115,
      "outputs": [
        {
          "output_type": "stream",
          "name": "stdout",
          "text": [
            "{1, 2, 3, 4, 5, 6, 7, 8, 9, 10, 11, 12}\n"
          ]
        }
      ]
    },
    {
      "cell_type": "code",
      "source": [
        "# intersection_update() : Update the set by keeping only the elements found in both\n",
        "setA = {1, 2, 3, 4, 5, 6, 7, 8, 9}\n",
        "setA.intersection_update(setB)\n",
        "print(setA)\n"
      ],
      "metadata": {
        "colab": {
          "base_uri": "https://localhost:8080/"
        },
        "id": "t5PKr-bWkFCW",
        "outputId": "9be7d91a-aa88-46ee-8bf3-8e821557d3ad"
      },
      "execution_count": 116,
      "outputs": [
        {
          "output_type": "stream",
          "name": "stdout",
          "text": [
            "{1, 2, 3}\n"
          ]
        }
      ]
    },
    {
      "cell_type": "code",
      "source": [
        "# difference_update() : Update the set by removing elements found in another set.\n",
        "setA = {1, 2, 3, 4, 5, 6, 7, 8, 9}\n",
        "setA.difference_update(setB)\n",
        "print(setA)"
      ],
      "metadata": {
        "colab": {
          "base_uri": "https://localhost:8080/"
        },
        "id": "nKfB5GDykIbn",
        "outputId": "301df55a-4f1d-44bb-cf42-99f9339011ff"
      },
      "execution_count": 117,
      "outputs": [
        {
          "output_type": "stream",
          "name": "stdout",
          "text": [
            "{4, 5, 6, 7, 8, 9}\n"
          ]
        }
      ]
    },
    {
      "cell_type": "code",
      "source": [
        "# symmetric_difference_update() : Update the set by only keeping the elements found in either set, but not in both\n",
        "setA = {1, 2, 3, 4, 5, 6, 7, 8, 9}\n",
        "setA.symmetric_difference_update(setB)\n",
        "print(setA)"
      ],
      "metadata": {
        "colab": {
          "base_uri": "https://localhost:8080/"
        },
        "id": "jo6GJz99kLPc",
        "outputId": "260a3e8a-16dc-451f-a84b-9f94b89e46b7"
      },
      "execution_count": 118,
      "outputs": [
        {
          "output_type": "stream",
          "name": "stdout",
          "text": [
            "{4, 5, 6, 7, 8, 9, 10, 11, 12}\n"
          ]
        }
      ]
    },
    {
      "cell_type": "code",
      "source": [
        "# Note: all update methods also work with other iterables as argument, e.g lists, tuples\n",
        "# setA.update([1, 2, 3, 4, 5, 6])"
      ],
      "metadata": {
        "id": "_WqunhhPkPlb"
      },
      "execution_count": 120,
      "outputs": []
    },
    {
      "cell_type": "markdown",
      "source": [
        "## Copying"
      ],
      "metadata": {
        "id": "L7sNKv7tkbY-"
      }
    },
    {
      "cell_type": "code",
      "source": [
        "set_org = {1, 2, 3, 4, 5}\n",
        "# this just copies the reference to the set, so be careful\n",
        "set_copy = set_org\n",
        "\n",
        "# now modifying the copy also affects the original\n",
        "set_copy.update([3, 4, 5, 6, 7])\n",
        "print(set_copy)\n",
        "print(set_org)"
      ],
      "metadata": {
        "colab": {
          "base_uri": "https://localhost:8080/"
        },
        "id": "2rJCubXukXZC",
        "outputId": "585443b1-ab1a-40e7-edd0-a4165a59acc1"
      },
      "execution_count": 121,
      "outputs": [
        {
          "output_type": "stream",
          "name": "stdout",
          "text": [
            "{1, 2, 3, 4, 5, 6, 7}\n",
            "{1, 2, 3, 4, 5, 6, 7}\n"
          ]
        }
      ]
    },
    {
      "cell_type": "code",
      "source": [
        "# use copy() to actually copy the set\n",
        "set_org = {1, 2, 3, 4, 5}\n",
        "set_copy = set_org.copy()\n",
        "\n",
        "# now modifying the copy does not affect the original\n",
        "set_copy.update([3, 4, 5, 6, 7])\n",
        "print(set_copy)\n",
        "print(set_org)"
      ],
      "metadata": {
        "colab": {
          "base_uri": "https://localhost:8080/"
        },
        "id": "2KErYTmMkgh1",
        "outputId": "8cb22960-90c3-451b-ac21-6aa9a812f351"
      },
      "execution_count": 122,
      "outputs": [
        {
          "output_type": "stream",
          "name": "stdout",
          "text": [
            "{1, 2, 3, 4, 5, 6, 7}\n",
            "{1, 2, 3, 4, 5}\n"
          ]
        }
      ]
    },
    {
      "cell_type": "markdown",
      "source": [
        "## Subset, Superset and Disjoint"
      ],
      "metadata": {
        "id": "seGuG9vokl4f"
      }
    },
    {
      "cell_type": "code",
      "source": [
        "setA = {1, 2, 3, 4, 5, 6}\n",
        "setB = {1, 2, 3}\n",
        "\n",
        "# issubset(setX): Returns True if setX contains the set\n",
        "print(setA.issubset(setB))\n",
        "print(setB.issubset(setA)) # True"
      ],
      "metadata": {
        "colab": {
          "base_uri": "https://localhost:8080/"
        },
        "id": "5SOI1FOXkil1",
        "outputId": "9c462191-b45f-4da3-ab1f-1092ca34172d"
      },
      "execution_count": 124,
      "outputs": [
        {
          "output_type": "stream",
          "name": "stdout",
          "text": [
            "False\n",
            "True\n"
          ]
        }
      ]
    },
    {
      "cell_type": "code",
      "source": [
        "# issuperset(setX): Returns True if the set contains setX\n",
        "print(setA.issuperset(setB)) # True\n",
        "print(setB.issuperset(setA))"
      ],
      "metadata": {
        "colab": {
          "base_uri": "https://localhost:8080/"
        },
        "id": "gIJMMf-Uku3F",
        "outputId": "34229ad6-bfc1-446b-cf43-c14a5cac7502"
      },
      "execution_count": 125,
      "outputs": [
        {
          "output_type": "stream",
          "name": "stdout",
          "text": [
            "True\n",
            "False\n"
          ]
        }
      ]
    },
    {
      "cell_type": "code",
      "source": [
        "# isdisjoint(setX) : Return True if both sets have a null intersection, i.e. no same elements\n",
        "setC = {7, 8, 9}\n",
        "print(setA.isdisjoint(setB))\n",
        "print(setA.isdisjoint(setC))"
      ],
      "metadata": {
        "colab": {
          "base_uri": "https://localhost:8080/"
        },
        "id": "fTk13YLgkyie",
        "outputId": "809ce13c-4dd4-47a3-a701-8368a64a68ec"
      },
      "execution_count": 126,
      "outputs": [
        {
          "output_type": "stream",
          "name": "stdout",
          "text": [
            "False\n",
            "True\n"
          ]
        }
      ]
    },
    {
      "cell_type": "markdown",
      "source": [
        "## Frozen Set\n",
        "Frozen set is just an immutable version of normal set. While elements of a set can be modified at any time, elements of frozen set remains the same after creation. Creation with:"
      ],
      "metadata": {
        "id": "znUgKEQFk3C6"
      }
    },
    {
      "cell_type": "code",
      "source": [
        "a = frozenset([0, 1, 2, 3, 4])\n",
        "# The following is not allowed:\n",
        "# a.add(5)\n",
        "# a.remove(1)\n",
        "# a.discard(1)\n",
        "# a.clear()\n",
        "\n",
        "# Also no update methods are allowed:\n",
        "# a.update([1,2,3])"
      ],
      "metadata": {
        "id": "yPzlCdw-k1gu"
      },
      "execution_count": 127,
      "outputs": []
    },
    {
      "cell_type": "code",
      "source": [
        "# Other set operations work\n",
        "odds = frozenset({1, 3, 5, 7, 9})\n",
        "evens = frozenset({0, 2, 4, 6, 8})\n",
        "print(odds.union(evens))\n",
        "print(odds.intersection(evens))\n",
        "print(odds.difference(evens))"
      ],
      "metadata": {
        "colab": {
          "base_uri": "https://localhost:8080/"
        },
        "id": "CQWyUZ6AlAPD",
        "outputId": "6d5f64bb-9dc5-4878-f75e-d5bcd5a469a3"
      },
      "execution_count": 128,
      "outputs": [
        {
          "output_type": "stream",
          "name": "stdout",
          "text": [
            "frozenset({0, 1, 2, 3, 4, 5, 6, 7, 8, 9})\n",
            "frozenset()\n",
            "frozenset({1, 3, 5, 7, 9})\n"
          ]
        }
      ]
    },
    {
      "cell_type": "code",
      "source": [
        "print(set({1,2,3,4,5,6,7}).issuperset(set({4,5,6})))"
      ],
      "metadata": {
        "colab": {
          "base_uri": "https://localhost:8080/"
        },
        "id": "JYp5XrtnlCzj",
        "outputId": "e65e2a1c-0260-4ae4-9f1a-e9e36357cbd6"
      },
      "execution_count": 129,
      "outputs": [
        {
          "output_type": "stream",
          "name": "stdout",
          "text": [
            "True\n"
          ]
        }
      ]
    },
    {
      "cell_type": "markdown",
      "source": [
        "# STRINGS\n",
        "\n",
        "A string is a sequence of characters. String literals in Python are enclosed by either double or single quotes."
      ],
      "metadata": {
        "id": "7-BhFpXwlglJ"
      }
    },
    {
      "cell_type": "markdown",
      "source": [
        "## Creation"
      ],
      "metadata": {
        "id": "okFvzTsdlmgH"
      }
    },
    {
      "cell_type": "code",
      "source": [
        "# use singe or double quotes\n",
        "my_string = 'Hello'\n",
        "my_string = \"Hello\"\n",
        "my_string = \"I' m  a 'Geek'\""
      ],
      "metadata": {
        "id": "n4g83_2HlbPJ"
      },
      "execution_count": 130,
      "outputs": []
    },
    {
      "cell_type": "code",
      "source": [
        "# escaping backslash\n",
        "my_string = 'I\\' m  a \"Geek\"'\n",
        "my_string = 'I\\' m a \\'Geek\\''\n",
        "print(my_string)"
      ],
      "metadata": {
        "colab": {
          "base_uri": "https://localhost:8080/"
        },
        "id": "8kb6P4_wmF1z",
        "outputId": "83aac2ac-c82c-4e88-8055-1c323d65c745"
      },
      "execution_count": 131,
      "outputs": [
        {
          "output_type": "stream",
          "name": "stdout",
          "text": [
            "I' m a 'Geek'\n"
          ]
        }
      ]
    },
    {
      "cell_type": "code",
      "source": [
        "# triple quotes for multiline strings\n",
        "my_string = \"\"\"Hello\n",
        "     World\"\"\"\n",
        "print(my_string)"
      ],
      "metadata": {
        "colab": {
          "base_uri": "https://localhost:8080/"
        },
        "id": "zCNAcwjxmJJ6",
        "outputId": "50b99cc8-c9ce-4062-e9ce-1967f36896e8"
      },
      "execution_count": 133,
      "outputs": [
        {
          "output_type": "stream",
          "name": "stdout",
          "text": [
            "Hello\n",
            "     World\n"
          ]
        }
      ]
    },
    {
      "cell_type": "code",
      "source": [
        "# backslash if you want to continue in the next line\n",
        "my_string = \"Hello \\\n",
        "World\"\n",
        "print(my_string)"
      ],
      "metadata": {
        "colab": {
          "base_uri": "https://localhost:8080/"
        },
        "id": "y1kwiKe1mMMz",
        "outputId": "b0ce69e3-baef-4b12-81ee-07756ad7b37d"
      },
      "execution_count": 134,
      "outputs": [
        {
          "output_type": "stream",
          "name": "stdout",
          "text": [
            "Hello World\n"
          ]
        }
      ]
    },
    {
      "cell_type": "markdown",
      "source": [
        "## Access characters and substrings"
      ],
      "metadata": {
        "id": "YJl7Q1FNmSuH"
      }
    },
    {
      "cell_type": "code",
      "source": [
        "my_string = \"Hello World\"\n",
        "\n",
        "# get character by referring to index\n",
        "print(my_string[0])"
      ],
      "metadata": {
        "colab": {
          "base_uri": "https://localhost:8080/"
        },
        "id": "Gbz_HP8ymRAj",
        "outputId": "0719079d-c570-49ae-b442-51272c5858d5"
      },
      "execution_count": 135,
      "outputs": [
        {
          "output_type": "stream",
          "name": "stdout",
          "text": [
            "H\n"
          ]
        }
      ]
    },
    {
      "cell_type": "code",
      "source": [
        "# Substrings with slicing\n",
        "b = my_string[1:3] # Note that the last index is not included\n",
        "print(b)\n",
        "b = my_string[:5] # from beginning\n",
        "print(b)\n",
        "b = my_string[6:] # until the end\n",
        "print(b)\n",
        "b = my_string[::2] # start to end with every second item\n",
        "print(b)\n",
        "b = my_string[::-1] # reverse the string with a negative step:\n",
        "print(b)\n",
        "\n",
        "print(my_string[::-2])"
      ],
      "metadata": {
        "colab": {
          "base_uri": "https://localhost:8080/"
        },
        "id": "sgBeWb77mb0G",
        "outputId": "7ce0d30d-bbe9-4595-a721-502312e4d302"
      },
      "execution_count": 137,
      "outputs": [
        {
          "output_type": "stream",
          "name": "stdout",
          "text": [
            "el\n",
            "Hello\n",
            "World\n",
            "HloWrd\n",
            "dlroW olleH\n",
            "drWolH\n"
          ]
        }
      ]
    },
    {
      "cell_type": "markdown",
      "source": [
        "## Concatenate two or more strings"
      ],
      "metadata": {
        "id": "Xq05_OLYmsAO"
      }
    },
    {
      "cell_type": "code",
      "source": [
        "# concat strings with +\n",
        "greeting = \"Hello\"\n",
        "name = \"Tom\"\n",
        "sentence = greeting + ' ' + name\n",
        "print(sentence)"
      ],
      "metadata": {
        "colab": {
          "base_uri": "https://localhost:8080/"
        },
        "id": "wetIGQbumiZb",
        "outputId": "18220c65-f466-4a61-cf58-967ee8953b0c"
      },
      "execution_count": 140,
      "outputs": [
        {
          "output_type": "stream",
          "name": "stdout",
          "text": [
            "Hello Tom\n"
          ]
        }
      ]
    },
    {
      "cell_type": "markdown",
      "source": [
        "## Iterating"
      ],
      "metadata": {
        "id": "P0xLXIymm6W1"
      }
    },
    {
      "cell_type": "code",
      "source": [
        "# Iterating over a string by using a for in loop\n",
        "my_string = 'Hello'\n",
        "for i in my_string:\n",
        "    print(i)"
      ],
      "metadata": {
        "colab": {
          "base_uri": "https://localhost:8080/"
        },
        "id": "BzvH7z54mzXT",
        "outputId": "dff28aa0-fdd9-437f-c58a-7538dd15c750"
      },
      "execution_count": 141,
      "outputs": [
        {
          "output_type": "stream",
          "name": "stdout",
          "text": [
            "H\n",
            "e\n",
            "l\n",
            "l\n",
            "o\n"
          ]
        }
      ]
    },
    {
      "cell_type": "markdown",
      "source": [
        "## Check if a character or substring exists"
      ],
      "metadata": {
        "id": "X_votb0am8X3"
      }
    },
    {
      "cell_type": "code",
      "source": [
        "if \"e\" in \"Hello\":\n",
        "    print(\"yes\")\n",
        "if \"llo\" in \"Hello\":\n",
        "    print(\"yes\")"
      ],
      "metadata": {
        "colab": {
          "base_uri": "https://localhost:8080/"
        },
        "id": "b20KtOEfm4rV",
        "outputId": "e4271ff2-34c1-4c7e-c055-a24fa7c19bb6"
      },
      "execution_count": 142,
      "outputs": [
        {
          "output_type": "stream",
          "name": "stdout",
          "text": [
            "yes\n",
            "yes\n"
          ]
        }
      ]
    },
    {
      "cell_type": "markdown",
      "source": [
        "## **Useful Methods**\n"
      ],
      "metadata": {
        "id": "lcWAEunVnFje"
      }
    },
    {
      "cell_type": "code",
      "source": [
        "my_string = \"     Hello World \"\n",
        "\n",
        "#remove white space\n",
        "print(my_string.strip())"
      ],
      "metadata": {
        "colab": {
          "base_uri": "https://localhost:8080/"
        },
        "id": "ilgYTArunDns",
        "outputId": "83013985-a771-4b2f-8665-bb9d325356d7"
      },
      "execution_count": 143,
      "outputs": [
        {
          "output_type": "stream",
          "name": "stdout",
          "text": [
            "Hello World\n"
          ]
        }
      ]
    },
    {
      "cell_type": "code",
      "source": [
        "# number of characters\n",
        "print(len(my_string))"
      ],
      "metadata": {
        "colab": {
          "base_uri": "https://localhost:8080/"
        },
        "id": "m40Eo56bnTkW",
        "outputId": "0553f124-9392-4d09-af24-f8fc92194545"
      },
      "execution_count": 144,
      "outputs": [
        {
          "output_type": "stream",
          "name": "stdout",
          "text": [
            "17\n"
          ]
        }
      ]
    },
    {
      "cell_type": "code",
      "source": [
        "# Upper and Lower cases\n",
        "print(my_string.upper())\n",
        "print(my_string.lower())"
      ],
      "metadata": {
        "colab": {
          "base_uri": "https://localhost:8080/"
        },
        "id": "1yaL1lCunY3g",
        "outputId": "8a5b5762-c79f-43a0-caf9-6c13d5b5468b"
      },
      "execution_count": 145,
      "outputs": [
        {
          "output_type": "stream",
          "name": "stdout",
          "text": [
            "     HELLO WORLD \n",
            "     hello world \n"
          ]
        }
      ]
    },
    {
      "cell_type": "code",
      "source": [
        "#Startswith and endswith\n",
        "print(\"hello\".startswith(\"he\"))\n",
        "print(\"hello\".endswith(\"pkdf\"))"
      ],
      "metadata": {
        "colab": {
          "base_uri": "https://localhost:8080/"
        },
        "id": "Qft0tg6Xnggc",
        "outputId": "567810c9-84a4-4965-8056-1d5120977b04"
      },
      "execution_count": 146,
      "outputs": [
        {
          "output_type": "stream",
          "name": "stdout",
          "text": [
            "True\n",
            "False\n"
          ]
        }
      ]
    },
    {
      "cell_type": "code",
      "source": [
        "# find first index of a given substring, -1 otherwise\n",
        "print(\"Hello\".find(\"o\"))"
      ],
      "metadata": {
        "colab": {
          "base_uri": "https://localhost:8080/"
        },
        "id": "iM7BjtA7nsOU",
        "outputId": "2dc95e80-ae42-47bf-feb9-9f534ba4fc1d"
      },
      "execution_count": 147,
      "outputs": [
        {
          "output_type": "stream",
          "name": "stdout",
          "text": [
            "4\n"
          ]
        }
      ]
    },
    {
      "cell_type": "code",
      "source": [
        "# count number of characters/substrings\n",
        "print(\"hello\".count('e'))"
      ],
      "metadata": {
        "colab": {
          "base_uri": "https://localhost:8080/"
        },
        "id": "yTW7XUjLnxQi",
        "outputId": "9032970f-f5fd-45a7-f37b-1b8148a81b59"
      },
      "execution_count": 149,
      "outputs": [
        {
          "output_type": "stream",
          "name": "stdout",
          "text": [
            "1\n"
          ]
        }
      ]
    },
    {
      "cell_type": "code",
      "source": [
        "# replace a substring with another string (only if the substring is found)\n",
        "# Note: The original string stays the same\n",
        "print(\"Hello World\".replace(\"World\", \"Universe\"))"
      ],
      "metadata": {
        "colab": {
          "base_uri": "https://localhost:8080/"
        },
        "id": "gUu0YJ4hn2Tq",
        "outputId": "1f4e44e1-92ea-4091-e453-a2addf7ae77b"
      },
      "execution_count": 150,
      "outputs": [
        {
          "output_type": "stream",
          "name": "stdout",
          "text": [
            "Hello Universe\n"
          ]
        }
      ]
    },
    {
      "cell_type": "code",
      "source": [
        "#Split the string into a list\n",
        "print(\"how are you doing\".split()) #default argument is \" \""
      ],
      "metadata": {
        "colab": {
          "base_uri": "https://localhost:8080/"
        },
        "id": "Cr-BPV1qoDHr",
        "outputId": "63573544-c1ef-4e28-fa2a-80e41bd30388"
      },
      "execution_count": 151,
      "outputs": [
        {
          "output_type": "stream",
          "name": "stdout",
          "text": [
            "['how', 'are', 'you', 'doing']\n"
          ]
        }
      ]
    },
    {
      "cell_type": "code",
      "source": [
        "print(\"ari-bha-is-me\".split(\"-\"))"
      ],
      "metadata": {
        "colab": {
          "base_uri": "https://localhost:8080/"
        },
        "id": "gccpn6D0oPGl",
        "outputId": "4a4b386f-8c5f-45b0-df4b-a9fdf665d1d9"
      },
      "execution_count": 152,
      "outputs": [
        {
          "output_type": "stream",
          "name": "stdout",
          "text": [
            "['ari', 'bha', 'is', 'me']\n"
          ]
        }
      ]
    },
    {
      "cell_type": "code",
      "source": [
        "# join elements of a list into a string\n",
        "print(' '.join(list(['how','is','saitama']))) # the given string is the separator, e.g. ' ' between each argument"
      ],
      "metadata": {
        "colab": {
          "base_uri": "https://localhost:8080/"
        },
        "id": "2BKuXunnoT0Y",
        "outputId": "aff02327-452b-4697-e1c6-8254684e3781"
      },
      "execution_count": 153,
      "outputs": [
        {
          "output_type": "stream",
          "name": "stdout",
          "text": [
            "how is saitama\n"
          ]
        }
      ]
    },
    {
      "cell_type": "code",
      "source": [
        "print('-'.join(list(['how','is','saitama'])))"
      ],
      "metadata": {
        "colab": {
          "base_uri": "https://localhost:8080/"
        },
        "id": "mipWhzrNopbx",
        "outputId": "d16faf26-2e24-43ee-8914-ee46d0b010e6"
      },
      "execution_count": 154,
      "outputs": [
        {
          "output_type": "stream",
          "name": "stdout",
          "text": [
            "how-is-saitama\n"
          ]
        }
      ]
    },
    {
      "cell_type": "markdown",
      "source": [
        "## Format"
      ],
      "metadata": {
        "id": "M9iE6gs2owh-"
      }
    },
    {
      "cell_type": "code",
      "source": [
        "# use braces as placeholders\n",
        "print(\"Hello this is {0} and {1}\".format(\"Zero\", \"One\"))"
      ],
      "metadata": {
        "colab": {
          "base_uri": "https://localhost:8080/"
        },
        "id": "yRxySKCMotqe",
        "outputId": "652eb834-964e-475e-a942-1ca9ea79b514"
      },
      "execution_count": 155,
      "outputs": [
        {
          "output_type": "stream",
          "name": "stdout",
          "text": [
            "Hello this is Zero and One\n"
          ]
        }
      ]
    },
    {
      "cell_type": "code",
      "source": [
        "# the positions are optional for the default order\n",
        "print(\"Hello this is {} and {}\".format(\"Two\", \"Three\"))"
      ],
      "metadata": {
        "colab": {
          "base_uri": "https://localhost:8080/"
        },
        "id": "VTxH-looo8Ln",
        "outputId": "f792e148-301e-46a8-a925-ee83e533ff7c"
      },
      "execution_count": 156,
      "outputs": [
        {
          "output_type": "stream",
          "name": "stdout",
          "text": [
            "Hello this is Two and Three\n"
          ]
        }
      ]
    },
    {
      "cell_type": "code",
      "source": [
        "# some special format rules for numbers\n",
        "print(\"the float value is {0:.3f}\".format(3.14159))"
      ],
      "metadata": {
        "colab": {
          "base_uri": "https://localhost:8080/"
        },
        "id": "4aLjrFLHpFK-",
        "outputId": "0e2f1589-0c5b-4d7f-a39e-32bef31dc37f"
      },
      "execution_count": 158,
      "outputs": [
        {
          "output_type": "stream",
          "name": "stdout",
          "text": [
            "the float value is 3.142\n"
          ]
        }
      ]
    },
    {
      "cell_type": "code",
      "source": [
        "print(\"The float value is {0:e}\".format(2.1234)) #in exp format\n",
        "print(\"The float value is {0:e}\".format(21234))"
      ],
      "metadata": {
        "colab": {
          "base_uri": "https://localhost:8080/"
        },
        "id": "8tOF45czpQ_x",
        "outputId": "b3d2bcb5-5bce-4cba-ee63-370d7e5d19c8"
      },
      "execution_count": 160,
      "outputs": [
        {
          "output_type": "stream",
          "name": "stdout",
          "text": [
            "The float value is 2.123400e+00\n",
            "The float value is 2.123400e+04\n"
          ]
        }
      ]
    },
    {
      "cell_type": "code",
      "source": [
        "print(\"The binary value is {0:b}\".format(2))"
      ],
      "metadata": {
        "colab": {
          "base_uri": "https://localhost:8080/"
        },
        "id": "vpvxFisypauQ",
        "outputId": "6f02775b-b722-4877-d74d-9180e9d688dd"
      },
      "execution_count": 161,
      "outputs": [
        {
          "output_type": "stream",
          "name": "stdout",
          "text": [
            "The binary value is 10\n"
          ]
        }
      ]
    },
    {
      "cell_type": "code",
      "source": [
        "# old style formatting by using % operator\n",
        "print(\"Hello %s and %s\" % (\"Bob\", \"Tom\")) # must be a tuple for multiple arguments\n",
        "val =  3.14159265359\n",
        "print(\"The decimal value is %d\" % val)\n",
        "print(\"The float value is %f\" % val)\n",
        "print(\"The float value is %.2f\" % val)"
      ],
      "metadata": {
        "colab": {
          "base_uri": "https://localhost:8080/"
        },
        "id": "rR0ZJzn-poqJ",
        "outputId": "d4fa3cd1-0854-4a3c-fbd2-6ecaf6376a45"
      },
      "execution_count": 162,
      "outputs": [
        {
          "output_type": "stream",
          "name": "stdout",
          "text": [
            "Hello Bob and Tom\n",
            "The decimal value is 3\n",
            "The float value is 3.141593\n",
            "The float value is 3.14\n"
          ]
        }
      ]
    },
    {
      "cell_type": "markdown",
      "source": [
        "## f-strings\n",
        "New since Python 3.6. Use the variables directly inside the braces.\n",
        "\n"
      ],
      "metadata": {
        "id": "Ugy_T54ppva-"
      }
    },
    {
      "cell_type": "code",
      "source": [
        "name = \"Eric\"\n",
        "age = 25\n",
        "a = f\"Hello, {name}. You are {age}.\"\n",
        "print(a)\n",
        "pi = 3.14159\n",
        "a = f\"Pi is {pi:.3f}\"\n",
        "print(a)\n",
        "# f-Strings are evaluated at runtime, which allows expressions\n",
        "a = f\"The value is {2*60}\"\n",
        "print(a)\n",
        "\n",
        "print(f\"This is an binary representation of 1792 : {1792:b}\")\n",
        "print(f\"This is an octal representation of 1792 : {1792:o}\")\n",
        "print(f\"This is an hexa representation of 1792 : {1792:x}\")\n",
        "print(f\"This is an exponential representation of 299.3764423 : {299.3764423:e}\")"
      ],
      "metadata": {
        "colab": {
          "base_uri": "https://localhost:8080/"
        },
        "id": "aYvPATzmprU7",
        "outputId": "09809b0e-9599-4647-e777-fcef44a76b6f"
      },
      "execution_count": 171,
      "outputs": [
        {
          "output_type": "stream",
          "name": "stdout",
          "text": [
            "Hello, Eric. You are 25.\n",
            "Pi is 3.142\n",
            "The value is 120\n",
            "This is an binary representation of 1792 : 11100000000\n",
            "This is an octal representation of 1792 : 3400\n",
            "This is an hexa representation of 1792 : 700\n",
            "This is an exponential representation of 299.3764423 : 2.993764e+02\n"
          ]
        }
      ]
    },
    {
      "cell_type": "markdown",
      "source": [
        "## More on immutability and concatenation"
      ],
      "metadata": {
        "id": "l6E2nwSaqyII"
      }
    },
    {
      "cell_type": "code",
      "source": [
        "# since a string is immutable, adding strings with +,  or += always \n",
        "# creates a new string, and therefore is expensive for multiple operations\n",
        "# --> join method is much faster\n",
        "from timeit import default_timer as timer\n",
        "my_list = [\"a\"] * 1000000\n",
        "\n",
        "#bad\n",
        "start = timer()\n",
        "a=\"\"\n",
        "for i in my_list:\n",
        "  a+=i\n",
        "end = timer()\n",
        "print(\"Time taken for concatenation with + is : \",(end-start))\n",
        "\n"
      ],
      "metadata": {
        "colab": {
          "base_uri": "https://localhost:8080/"
        },
        "id": "98XOIjOdqFoR",
        "outputId": "c9f0f0bb-2670-4c44-df03-1285467de753"
      },
      "execution_count": 173,
      "outputs": [
        {
          "output_type": "stream",
          "name": "stdout",
          "text": [
            "Time taken for concatenation with + is :  0.18108107499938342\n"
          ]
        }
      ]
    },
    {
      "cell_type": "code",
      "source": [
        "#good\n",
        "start=timer()\n",
        "a=\"\".join(my_list)\n",
        "end=timer()\n",
        "print(f\"Time taken for concatenation with join is : {(end-start): .5f}\")"
      ],
      "metadata": {
        "colab": {
          "base_uri": "https://localhost:8080/"
        },
        "id": "YsI41_FzrCeZ",
        "outputId": "ab0bdb31-4ea5-4bb3-c758-fabd7da6fc21"
      },
      "execution_count": 175,
      "outputs": [
        {
          "output_type": "stream",
          "name": "stdout",
          "text": [
            "Time taken for concatenation with join is :  0.01189\n"
          ]
        }
      ]
    },
    {
      "cell_type": "code",
      "source": [
        ""
      ],
      "metadata": {
        "id": "sSQDZAi4rj9n"
      },
      "execution_count": null,
      "outputs": []
    }
  ]
}